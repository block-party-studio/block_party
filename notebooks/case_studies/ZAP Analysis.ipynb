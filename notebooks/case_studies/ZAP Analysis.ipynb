{
 "cells": [
  {
   "cell_type": "code",
   "execution_count": 13,
   "id": "addressed-local",
   "metadata": {},
   "outputs": [],
   "source": [
    "import pandas as pd\n",
    "pd.set_option('display.max_columns', None)\n",
    "\n",
    "# read from link\n",
    "import zipfile\n",
    "from urllib.request import urlopen\n",
    "from io import BytesIO"
   ]
  },
  {
   "cell_type": "markdown",
   "id": "economic-survivor",
   "metadata": {},
   "source": [
    "## Analysis from Zoning Application Portal\n",
    "\n",
    "Objective: Find wider narrative as told by big data"
   ]
  },
  {
   "cell_type": "code",
   "execution_count": 9,
   "id": "phantom-employee",
   "metadata": {},
   "outputs": [],
   "source": [
    "resp = urlopen(\"https://www1.nyc.gov/assets/planning/download/zip/data-maps/open-data/zapprojects_20220831csv.zip\")\n",
    "myzip = zipfile.ZipFile(BytesIO(resp.read()))"
   ]
  },
  {
   "cell_type": "code",
   "execution_count": 10,
   "id": "manual-ribbon",
   "metadata": {},
   "outputs": [],
   "source": [
    "# from ZAP\n",
    "df = pd.read_csv(myzip.open('zap_projects.csv'))"
   ]
  },
  {
   "cell_type": "code",
   "execution_count": 53,
   "id": "dramatic-geneva",
   "metadata": {},
   "outputs": [
    {
     "data": {
      "text/html": [
       "<div>\n",
       "<style scoped>\n",
       "    .dataframe tbody tr th:only-of-type {\n",
       "        vertical-align: middle;\n",
       "    }\n",
       "\n",
       "    .dataframe tbody tr th {\n",
       "        vertical-align: top;\n",
       "    }\n",
       "\n",
       "    .dataframe thead th {\n",
       "        text-align: right;\n",
       "    }\n",
       "</style>\n",
       "<table border=\"1\" class=\"dataframe\">\n",
       "  <thead>\n",
       "    <tr style=\"text-align: right;\">\n",
       "      <th></th>\n",
       "      <th>project_id</th>\n",
       "      <th>project_name</th>\n",
       "      <th>project_brief</th>\n",
       "      <th>project_status</th>\n",
       "      <th>public_status</th>\n",
       "      <th>ulurp_non</th>\n",
       "      <th>actions</th>\n",
       "      <th>ulurp_numbers</th>\n",
       "      <th>ceqr_type</th>\n",
       "      <th>ceqr_number</th>\n",
       "      <th>eas_eis</th>\n",
       "      <th>ceqr_leadagency</th>\n",
       "      <th>primary_applicant</th>\n",
       "      <th>applicant_type</th>\n",
       "      <th>borough</th>\n",
       "      <th>community_district</th>\n",
       "      <th>cc_district</th>\n",
       "      <th>flood_zone_a</th>\n",
       "      <th>flood_zone_shadedx</th>\n",
       "      <th>current_milestone</th>\n",
       "      <th>current_milestone_date</th>\n",
       "      <th>current_envmilestone</th>\n",
       "      <th>current_envmilestone_date</th>\n",
       "      <th>app_filed_date</th>\n",
       "      <th>noticed_date</th>\n",
       "      <th>certified_referred</th>\n",
       "      <th>approval_date</th>\n",
       "      <th>completed_date</th>\n",
       "      <th>mih_flag</th>\n",
       "      <th>mih_option1</th>\n",
       "      <th>mih_option2</th>\n",
       "      <th>mih_workforce</th>\n",
       "      <th>mih_deepaffordability</th>\n",
       "      <th>mih_mapped_no_res</th>\n",
       "    </tr>\n",
       "  </thead>\n",
       "  <tbody>\n",
       "    <tr>\n",
       "      <th>0</th>\n",
       "      <td>P2005R0355</td>\n",
       "      <td>30 ST JAMES AVE</td>\n",
       "      <td>AUTH FOR DEVELOPMENT ON A STEEP SLOPE &amp; REMOVA...</td>\n",
       "      <td>Complete</td>\n",
       "      <td>Completed</td>\n",
       "      <td>Non-ULURP</td>\n",
       "      <td>NaN</td>\n",
       "      <td>NaN</td>\n",
       "      <td>NaN</td>\n",
       "      <td>NaN</td>\n",
       "      <td>NaN</td>\n",
       "      <td>NaN</td>\n",
       "      <td>ROBERT PENNACHIO/VALENTINO ASSOC</td>\n",
       "      <td>Private</td>\n",
       "      <td>Staten Island</td>\n",
       "      <td>R02</td>\n",
       "      <td>NaN</td>\n",
       "      <td>NaN</td>\n",
       "      <td>NaN</td>\n",
       "      <td>NaN</td>\n",
       "      <td>NaN</td>\n",
       "      <td>NaN</td>\n",
       "      <td>NaN</td>\n",
       "      <td>NaN</td>\n",
       "      <td>NaN</td>\n",
       "      <td>2006-03-01</td>\n",
       "      <td>NaN</td>\n",
       "      <td>2006-05-23</td>\n",
       "      <td>NaN</td>\n",
       "      <td>NaN</td>\n",
       "      <td>NaN</td>\n",
       "      <td>NaN</td>\n",
       "      <td>NaN</td>\n",
       "      <td>NaN</td>\n",
       "    </tr>\n",
       "    <tr>\n",
       "      <th>1</th>\n",
       "      <td>P2015R0395</td>\n",
       "      <td>Acacia Avenue - Wood Duck Pond - Bluebelt</td>\n",
       "      <td>This is a public application by NYC Department...</td>\n",
       "      <td>Complete</td>\n",
       "      <td>Completed</td>\n",
       "      <td>Non-ULURP</td>\n",
       "      <td>NaN</td>\n",
       "      <td>NaN</td>\n",
       "      <td>Type I</td>\n",
       "      <td>01DEP004R</td>\n",
       "      <td>NaN</td>\n",
       "      <td>DEP</td>\n",
       "      <td>DEP - Department of Environmental Protection (...</td>\n",
       "      <td>Other Public Agency</td>\n",
       "      <td>Staten Island</td>\n",
       "      <td>R03</td>\n",
       "      <td>NaN</td>\n",
       "      <td>False</td>\n",
       "      <td>False</td>\n",
       "      <td>NaN</td>\n",
       "      <td>NaN</td>\n",
       "      <td>NaN</td>\n",
       "      <td>NaN</td>\n",
       "      <td>NaN</td>\n",
       "      <td>NaN</td>\n",
       "      <td>2016-03-02</td>\n",
       "      <td>NaN</td>\n",
       "      <td>2016-08-03</td>\n",
       "      <td>NaN</td>\n",
       "      <td>NaN</td>\n",
       "      <td>NaN</td>\n",
       "      <td>NaN</td>\n",
       "      <td>NaN</td>\n",
       "      <td>NaN</td>\n",
       "    </tr>\n",
       "    <tr>\n",
       "      <th>2</th>\n",
       "      <td>P2005R0358</td>\n",
       "      <td>PENDALE ST DEMAP</td>\n",
       "      <td>05DCP083R: PENDALE STREET DEMAPPING</td>\n",
       "      <td>Withdrawn-Other</td>\n",
       "      <td>Completed</td>\n",
       "      <td>ULURP</td>\n",
       "      <td>NaN</td>\n",
       "      <td>NaN</td>\n",
       "      <td>NaN</td>\n",
       "      <td>05DCP083R</td>\n",
       "      <td>NaN</td>\n",
       "      <td>DCP</td>\n",
       "      <td>METROPOLITAN NY SYNOD. OF THE EVANGELICAL CHURCH</td>\n",
       "      <td>Private</td>\n",
       "      <td>Staten Island</td>\n",
       "      <td>R03</td>\n",
       "      <td>NaN</td>\n",
       "      <td>NaN</td>\n",
       "      <td>NaN</td>\n",
       "      <td>NaN</td>\n",
       "      <td>NaN</td>\n",
       "      <td>NaN</td>\n",
       "      <td>NaN</td>\n",
       "      <td>NaN</td>\n",
       "      <td>NaN</td>\n",
       "      <td>2006-09-25</td>\n",
       "      <td>NaN</td>\n",
       "      <td>2007-02-09</td>\n",
       "      <td>NaN</td>\n",
       "      <td>NaN</td>\n",
       "      <td>NaN</td>\n",
       "      <td>NaN</td>\n",
       "      <td>NaN</td>\n",
       "      <td>NaN</td>\n",
       "    </tr>\n",
       "    <tr>\n",
       "      <th>3</th>\n",
       "      <td>P2005X0165</td>\n",
       "      <td>MELROSE COMMONS CORNERSTONE</td>\n",
       "      <td>88-087X: DEV. OF UP TO 5000 NEW HOUSING UNITS ...</td>\n",
       "      <td>Complete</td>\n",
       "      <td>Completed</td>\n",
       "      <td>ULURP</td>\n",
       "      <td>NaN</td>\n",
       "      <td>NaN</td>\n",
       "      <td>NaN</td>\n",
       "      <td>88-087X</td>\n",
       "      <td>NaN</td>\n",
       "      <td>NaN</td>\n",
       "      <td>HPD</td>\n",
       "      <td>Other Public Agency</td>\n",
       "      <td>Bronx</td>\n",
       "      <td>X01,X03</td>\n",
       "      <td>NaN</td>\n",
       "      <td>NaN</td>\n",
       "      <td>NaN</td>\n",
       "      <td>NaN</td>\n",
       "      <td>NaN</td>\n",
       "      <td>NaN</td>\n",
       "      <td>NaN</td>\n",
       "      <td>NaN</td>\n",
       "      <td>NaN</td>\n",
       "      <td>2004-12-20</td>\n",
       "      <td>NaN</td>\n",
       "      <td>2005-05-31</td>\n",
       "      <td>NaN</td>\n",
       "      <td>NaN</td>\n",
       "      <td>NaN</td>\n",
       "      <td>NaN</td>\n",
       "      <td>NaN</td>\n",
       "      <td>NaN</td>\n",
       "    </tr>\n",
       "    <tr>\n",
       "      <th>4</th>\n",
       "      <td>P2005R0360</td>\n",
       "      <td>145 SPRAGUE AVE</td>\n",
       "      <td>CERT SCHOOL SEATS TO BUILD A 1-FAMILY HOME IN ...</td>\n",
       "      <td>Complete</td>\n",
       "      <td>Completed</td>\n",
       "      <td>Non-ULURP</td>\n",
       "      <td>NaN</td>\n",
       "      <td>NaN</td>\n",
       "      <td>NaN</td>\n",
       "      <td>NaN</td>\n",
       "      <td>NaN</td>\n",
       "      <td>NaN</td>\n",
       "      <td>MICHAEL RUSSO/STEVEN SAVINO</td>\n",
       "      <td>Private</td>\n",
       "      <td>Staten Island</td>\n",
       "      <td>R03</td>\n",
       "      <td>NaN</td>\n",
       "      <td>NaN</td>\n",
       "      <td>NaN</td>\n",
       "      <td>NaN</td>\n",
       "      <td>NaN</td>\n",
       "      <td>NaN</td>\n",
       "      <td>NaN</td>\n",
       "      <td>NaN</td>\n",
       "      <td>NaN</td>\n",
       "      <td>2005-07-06</td>\n",
       "      <td>NaN</td>\n",
       "      <td>2005-07-06</td>\n",
       "      <td>NaN</td>\n",
       "      <td>NaN</td>\n",
       "      <td>NaN</td>\n",
       "      <td>NaN</td>\n",
       "      <td>NaN</td>\n",
       "      <td>NaN</td>\n",
       "    </tr>\n",
       "  </tbody>\n",
       "</table>\n",
       "</div>"
      ],
      "text/plain": [
       "   project_id                               project_name  \\\n",
       "0  P2005R0355                            30 ST JAMES AVE   \n",
       "1  P2015R0395  Acacia Avenue - Wood Duck Pond - Bluebelt   \n",
       "2  P2005R0358                           PENDALE ST DEMAP   \n",
       "3  P2005X0165                MELROSE COMMONS CORNERSTONE   \n",
       "4  P2005R0360                            145 SPRAGUE AVE   \n",
       "\n",
       "                                       project_brief   project_status  \\\n",
       "0  AUTH FOR DEVELOPMENT ON A STEEP SLOPE & REMOVA...         Complete   \n",
       "1  This is a public application by NYC Department...         Complete   \n",
       "2                05DCP083R: PENDALE STREET DEMAPPING  Withdrawn-Other   \n",
       "3  88-087X: DEV. OF UP TO 5000 NEW HOUSING UNITS ...         Complete   \n",
       "4  CERT SCHOOL SEATS TO BUILD A 1-FAMILY HOME IN ...         Complete   \n",
       "\n",
       "  public_status  ulurp_non actions ulurp_numbers ceqr_type ceqr_number  \\\n",
       "0     Completed  Non-ULURP     NaN           NaN       NaN         NaN   \n",
       "1     Completed  Non-ULURP     NaN           NaN    Type I   01DEP004R   \n",
       "2     Completed      ULURP     NaN           NaN       NaN   05DCP083R   \n",
       "3     Completed      ULURP     NaN           NaN       NaN     88-087X   \n",
       "4     Completed  Non-ULURP     NaN           NaN       NaN         NaN   \n",
       "\n",
       "  eas_eis ceqr_leadagency                                  primary_applicant  \\\n",
       "0     NaN             NaN                   ROBERT PENNACHIO/VALENTINO ASSOC   \n",
       "1     NaN             DEP  DEP - Department of Environmental Protection (...   \n",
       "2     NaN             DCP   METROPOLITAN NY SYNOD. OF THE EVANGELICAL CHURCH   \n",
       "3     NaN             NaN                                                HPD   \n",
       "4     NaN             NaN                        MICHAEL RUSSO/STEVEN SAVINO   \n",
       "\n",
       "        applicant_type        borough community_district  cc_district  \\\n",
       "0              Private  Staten Island                R02          NaN   \n",
       "1  Other Public Agency  Staten Island                R03          NaN   \n",
       "2              Private  Staten Island                R03          NaN   \n",
       "3  Other Public Agency          Bronx            X01,X03          NaN   \n",
       "4              Private  Staten Island                R03          NaN   \n",
       "\n",
       "  flood_zone_a flood_zone_shadedx current_milestone current_milestone_date  \\\n",
       "0          NaN                NaN               NaN                    NaN   \n",
       "1        False              False               NaN                    NaN   \n",
       "2          NaN                NaN               NaN                    NaN   \n",
       "3          NaN                NaN               NaN                    NaN   \n",
       "4          NaN                NaN               NaN                    NaN   \n",
       "\n",
       "  current_envmilestone current_envmilestone_date app_filed_date noticed_date  \\\n",
       "0                  NaN                       NaN            NaN          NaN   \n",
       "1                  NaN                       NaN            NaN          NaN   \n",
       "2                  NaN                       NaN            NaN          NaN   \n",
       "3                  NaN                       NaN            NaN          NaN   \n",
       "4                  NaN                       NaN            NaN          NaN   \n",
       "\n",
       "  certified_referred approval_date completed_date mih_flag mih_option1  \\\n",
       "0         2006-03-01           NaN     2006-05-23      NaN         NaN   \n",
       "1         2016-03-02           NaN     2016-08-03      NaN         NaN   \n",
       "2         2006-09-25           NaN     2007-02-09      NaN         NaN   \n",
       "3         2004-12-20           NaN     2005-05-31      NaN         NaN   \n",
       "4         2005-07-06           NaN     2005-07-06      NaN         NaN   \n",
       "\n",
       "  mih_option2 mih_workforce mih_deepaffordability mih_mapped_no_res  \n",
       "0         NaN           NaN                   NaN               NaN  \n",
       "1         NaN           NaN                   NaN               NaN  \n",
       "2         NaN           NaN                   NaN               NaN  \n",
       "3         NaN           NaN                   NaN               NaN  \n",
       "4         NaN           NaN                   NaN               NaN  "
      ]
     },
     "execution_count": 53,
     "metadata": {},
     "output_type": "execute_result"
    }
   ],
   "source": [
    "df.head()"
   ]
  },
  {
   "cell_type": "markdown",
   "id": "complicated-there",
   "metadata": {},
   "source": [
    "Potential other numeric values from ZAP dataset\n",
    "\n",
    "Count of projects in application per CB? \n",
    "\n",
    "Limitations: no lat and long...will need to geocode."
   ]
  },
  {
   "cell_type": "code",
   "execution_count": 66,
   "id": "colonial-marks",
   "metadata": {},
   "outputs": [
    {
     "data": {
      "text/plain": [
       "0.974619919329817"
      ]
     },
     "execution_count": 66,
     "metadata": {},
     "output_type": "execute_result"
    }
   ],
   "source": [
    "df.actions.isna().sum()/len(df)"
   ]
  },
  {
   "cell_type": "code",
   "execution_count": 64,
   "id": "running-works",
   "metadata": {},
   "outputs": [
    {
     "data": {
      "text/plain": [
       "RC            103\n",
       "ZC             90\n",
       "ZM; ZR         80\n",
       "PX             75\n",
       "HK             65\n",
       "             ... \n",
       "HA; PQ          1\n",
       "ZM; ZS; LD      1\n",
       "MM; PQ          1\n",
       "PP; PQ          1\n",
       "HD; HU          1\n",
       "Name: actions, Length: 136, dtype: int64"
      ]
     },
     "execution_count": 64,
     "metadata": {},
     "output_type": "execute_result"
    }
   ],
   "source": [
    "df.actions.value_counts()"
   ]
  },
  {
   "cell_type": "code",
   "execution_count": 77,
   "id": "italic-operator",
   "metadata": {},
   "outputs": [],
   "source": [
    "mih_cols = ['mih_flag', 'mih_option1', 'mih_option2', 'mih_workforce', 'mih_deepaffordability', 'mih_mapped_no_res']"
   ]
  },
  {
   "attachments": {
    "image.png": {
     "image/png": "[encoded data removed]"
    }
   },
   "cell_type": "markdown",
   "id": "senior-spoke",
   "metadata": {},
   "source": [
    "![image.png](attachment:image.png)\n",
    "\n",
    "Could map on translucent paper where the MIH is proposed, or with pushpin? We would geocode using the project_name"
   ]
  },
  {
   "cell_type": "code",
   "execution_count": 78,
   "id": "ancient-plastic",
   "metadata": {},
   "outputs": [
    {
     "data": {
      "text/plain": [
       "mih_flag                 0\n",
       "mih_option1              5\n",
       "mih_option2              1\n",
       "mih_workforce            0\n",
       "mih_deepaffordability    1\n",
       "dtype: object"
      ]
     },
     "execution_count": 78,
     "metadata": {},
     "output_type": "execute_result"
    }
   ],
   "source": [
    "# mih_flag is not mutually exclusive? \n",
    "df[(df['mih_flag']==False)][mih_cols].sum()"
   ]
  },
  {
   "cell_type": "code",
   "execution_count": 80,
   "id": "sixth-offering",
   "metadata": {},
   "outputs": [
    {
     "data": {
      "text/plain": [
       "(331, 34)"
      ]
     },
     "execution_count": 80,
     "metadata": {},
     "output_type": "execute_result"
    }
   ],
   "source": [
    "# this is what we would geocode\n",
    "df[(df[mih_cols].any(1))].shape"
   ]
  },
  {
   "cell_type": "code",
   "execution_count": 82,
   "id": "operational-selling",
   "metadata": {},
   "outputs": [],
   "source": [
    "mih_only = df[(df[mih_cols].any(1))]"
   ]
  },
  {
   "cell_type": "code",
   "execution_count": 83,
   "id": "elect-offering",
   "metadata": {},
   "outputs": [
    {
     "data": {
      "text/plain": [
       "(331, 34)"
      ]
     },
     "execution_count": 83,
     "metadata": {},
     "output_type": "execute_result"
    }
   ],
   "source": [
    "mih_only.shape"
   ]
  },
  {
   "cell_type": "code",
   "execution_count": 81,
   "id": "political-sword",
   "metadata": {},
   "outputs": [
    {
     "data": {
      "text/plain": [
       "30-11 12th Street Rezoning        2\n",
       "40-25 Crescent Street Rezoning    1\n",
       "895 Bedford Avenue Rezoning       1\n",
       "737 Fourth Avenue                 1\n",
       "Bushwick Neighborhood Plan        1\n",
       "                                 ..\n",
       "Bedford-Union Armory (LSGD)       1\n",
       "Lexington Gardens II              1\n",
       "Sutter Avenue Rezoning            1\n",
       "307 Kent Avenue Rezoning          1\n",
       "217 W57 Subway Stair              1\n",
       "Name: project_name, Length: 330, dtype: int64"
      ]
     },
     "execution_count": 81,
     "metadata": {},
     "output_type": "execute_result"
    }
   ],
   "source": [
    "df[(df[mih_cols].any(1))].project_name.value_counts()"
   ]
  },
  {
   "cell_type": "code",
   "execution_count": 71,
   "id": "certain-wyoming",
   "metadata": {},
   "outputs": [
    {
     "data": {
      "text/plain": [
       "mih_flag                 233\n",
       "mih_option1              196\n",
       "mih_option2              116\n",
       "mih_workforce              9\n",
       "mih_deepaffordability     98\n",
       "dtype: object"
      ]
     },
     "execution_count": 71,
     "metadata": {},
     "output_type": "execute_result"
    }
   ],
   "source": [
    "df[mih_cols].sum()"
   ]
  },
  {
   "cell_type": "code",
   "execution_count": 63,
   "id": "maritime-holder",
   "metadata": {},
   "outputs": [
    {
     "data": {
      "text/plain": [
       "mih_flag  mih_option1  mih_option2  mih_workforce  mih_deepaffordability  mih_mapped_no_res\n",
       "False     False        False        False          False                  No                   10\n",
       "True      True         True         False          False                  No                    6\n",
       "                                                                          Yes                   4\n",
       "                       False        False          False                  No                    3\n",
       "          False        False        False          False                  Yes                   2\n",
       "          True         False        False          True                   No                    2\n",
       "False     False        False        False          False                  Yes                   1\n",
       "          True         True         False          False                  No                    1\n",
       "True      True         False        False          False                  Yes                   1\n",
       "                                    True           False                  No                    1\n",
       "dtype: int64"
      ]
     },
     "execution_count": 63,
     "metadata": {},
     "output_type": "execute_result"
    }
   ],
   "source": [
    "df[mih_cols].value_counts()"
   ]
  },
  {
   "cell_type": "code",
   "execution_count": 58,
   "id": "eastern-laundry",
   "metadata": {},
   "outputs": [
    {
     "data": {
      "text/plain": [
       "False    760\n",
       "True      98\n",
       "Name: mih_deepaffordability, dtype: int64"
      ]
     },
     "execution_count": 58,
     "metadata": {},
     "output_type": "execute_result"
    }
   ],
   "source": [
    "df.mih_deepaffordability.value_counts()"
   ]
  },
  {
   "cell_type": "code",
   "execution_count": 69,
   "id": "thirty-differential",
   "metadata": {},
   "outputs": [
    {
     "data": {
      "text/plain": [
       "Zoning map amendment, zoning text amendment (MIH), and special permit pursuant to Special Hudson River Park District to facilitate 740,615 sf of mixed use development at 601 West 29th Street within an M2-3 district.                                                                                                                                                                                                                                                                                     1\n",
       "A zoning text amendment (ZR), zoning map amendment (ZM), and site selection and acquisition (PC) - to facilitate a new, 581,601 sf mixed-use development with affordable and supportive housing, hotel and office use, retail, and NYPD vehicle storage - are being sought by EDC and 495 11 Avenue Owner Realty LLC (for ZR and ZM actions) and the Department of Citywide Administrative Services and NYPD (for PC action) at 495 11th Ave in Clinton/Hell’s Kitchen, Community District 4, Manhattan.    1\n",
       "Zoning text amendment (MIH), zoning map amendment, and special permit pursuant to the Special Hudson River Park District to facilitate a 207,375 sf mixed use development within an M2-3 district.\\n                                                                                                                                                                                                                                                                                                        1\n",
       "Name: project_brief, dtype: int64"
      ]
     },
     "execution_count": 69,
     "metadata": {},
     "output_type": "execute_result"
    }
   ],
   "source": [
    "df[(df['community_district'].str.contains('M04')) & (df['mih_flag'] ==True) ]['project_brief'].value_counts()"
   ]
  },
  {
   "cell_type": "markdown",
   "id": "rolled-highlight",
   "metadata": {},
   "source": [
    "Can we look into portion of units that go to median income?\n",
    "\n",
    "How much affordability is there?\n",
    "\n",
    "What are the average rental price for the area? Overlay on the map? \n",
    "\n",
    "Transparent boundaries to layer on top of the map. \n",
    "\n",
    "Photos in addition to show the patterns\n",
    "\n",
    "Do we want to show things changing over time? Tangible places people go to? What was the actual thing that people said about the neighborhood?\n",
    "\n",
    "Macro lens tied together with the tangible places.\n",
    "\n",
    "Story telling about historical development?\n",
    "\n",
    "For each area can we see the historical story line? "
   ]
  },
  {
   "cell_type": "markdown",
   "id": "rising-edinburgh",
   "metadata": {},
   "source": [
    "### Potential analysis:\n",
    "\n",
    "- NLP on the project brief, see what nouns come up\n",
    "\n",
    "- Map to the community district\n",
    "\n",
    "\n",
    "Challenges: hard to really see what the big rezoning stories are?\n",
    "\n",
    "If we search for rezoning, which proper nouns come up"
   ]
  },
  {
   "cell_type": "code",
   "execution_count": 27,
   "id": "loaded-editor",
   "metadata": {},
   "outputs": [
    {
     "data": {
      "text/plain": [
       "('1970-04-21', '2022-09-06')"
      ]
     },
     "execution_count": 27,
     "metadata": {},
     "output_type": "execute_result"
    }
   ],
   "source": [
    "# span of data is comprehensive?\n",
    "df[df.certified_referred.notna()].certified_referred.min(), df[df.certified_referred.notna()].certified_referred.max()"
   ]
  },
  {
   "cell_type": "code",
   "execution_count": null,
   "id": "productive-society",
   "metadata": {},
   "outputs": [],
   "source": [
    "# todo visualize as time series to identify gaps"
   ]
  },
  {
   "cell_type": "code",
   "execution_count": 24,
   "id": "excess-parent",
   "metadata": {},
   "outputs": [
    {
     "data": {
      "text/plain": [
       "Manhattan        11434\n",
       "Staten Island     8225\n",
       "Brooklyn          4874\n",
       "Queens            3568\n",
       "Bronx             3142\n",
       "Citywide           987\n",
       "Name: borough, dtype: int64"
      ]
     },
     "execution_count": 24,
     "metadata": {},
     "output_type": "execute_result"
    }
   ],
   "source": [
    "df.borough.value_counts()"
   ]
  },
  {
   "cell_type": "code",
   "execution_count": 12,
   "id": "continuing-supplement",
   "metadata": {
    "scrolled": true
   },
   "outputs": [
    {
     "data": {
      "text/plain": [
       "(32230, 34)"
      ]
     },
     "execution_count": 12,
     "metadata": {},
     "output_type": "execute_result"
    }
   ],
   "source": [
    "df.shape"
   ]
  },
  {
   "cell_type": "code",
   "execution_count": 36,
   "id": "forced-retro",
   "metadata": {},
   "outputs": [
    {
     "data": {
      "text/html": [
       "<div>\n",
       "<style scoped>\n",
       "    .dataframe tbody tr th:only-of-type {\n",
       "        vertical-align: middle;\n",
       "    }\n",
       "\n",
       "    .dataframe tbody tr th {\n",
       "        vertical-align: top;\n",
       "    }\n",
       "\n",
       "    .dataframe thead th {\n",
       "        text-align: right;\n",
       "    }\n",
       "</style>\n",
       "<table border=\"1\" class=\"dataframe\">\n",
       "  <thead>\n",
       "    <tr style=\"text-align: right;\">\n",
       "      <th></th>\n",
       "      <th>project_id</th>\n",
       "      <th>project_name</th>\n",
       "      <th>project_brief</th>\n",
       "      <th>project_status</th>\n",
       "      <th>public_status</th>\n",
       "      <th>ulurp_non</th>\n",
       "      <th>actions</th>\n",
       "      <th>ulurp_numbers</th>\n",
       "      <th>ceqr_type</th>\n",
       "      <th>ceqr_number</th>\n",
       "      <th>eas_eis</th>\n",
       "      <th>ceqr_leadagency</th>\n",
       "      <th>primary_applicant</th>\n",
       "      <th>applicant_type</th>\n",
       "      <th>borough</th>\n",
       "      <th>community_district</th>\n",
       "      <th>cc_district</th>\n",
       "      <th>flood_zone_a</th>\n",
       "      <th>flood_zone_shadedx</th>\n",
       "      <th>current_milestone</th>\n",
       "      <th>current_milestone_date</th>\n",
       "      <th>current_envmilestone</th>\n",
       "      <th>current_envmilestone_date</th>\n",
       "      <th>app_filed_date</th>\n",
       "      <th>noticed_date</th>\n",
       "      <th>certified_referred</th>\n",
       "      <th>approval_date</th>\n",
       "      <th>completed_date</th>\n",
       "      <th>mih_flag</th>\n",
       "      <th>mih_option1</th>\n",
       "      <th>mih_option2</th>\n",
       "      <th>mih_workforce</th>\n",
       "      <th>mih_deepaffordability</th>\n",
       "      <th>mih_mapped_no_res</th>\n",
       "    </tr>\n",
       "  </thead>\n",
       "  <tbody>\n",
       "    <tr>\n",
       "      <th>2887</th>\n",
       "      <td>P2017Y0302</td>\n",
       "      <td>M1 Hotel Special Permit</td>\n",
       "      <td>The NYC Department of City Planning is proposi...</td>\n",
       "      <td>Complete</td>\n",
       "      <td>Completed</td>\n",
       "      <td>Non-ULURP</td>\n",
       "      <td>NaN</td>\n",
       "      <td>NaN</td>\n",
       "      <td>Type I</td>\n",
       "      <td>18DCP042Y</td>\n",
       "      <td>EIS</td>\n",
       "      <td>DCP</td>\n",
       "      <td>DCP</td>\n",
       "      <td>DCP</td>\n",
       "      <td>Citywide</td>\n",
       "      <td>CY00</td>\n",
       "      <td>NaN</td>\n",
       "      <td>False</td>\n",
       "      <td>False</td>\n",
       "      <td>EIS - Project Completed</td>\n",
       "      <td>2018-12-26</td>\n",
       "      <td>EIS - DEIS Public Hearing Held</td>\n",
       "      <td>2018-07-25</td>\n",
       "      <td>NaN</td>\n",
       "      <td>NaN</td>\n",
       "      <td>2018-04-23</td>\n",
       "      <td>NaN</td>\n",
       "      <td>2018-12-26</td>\n",
       "      <td>NaN</td>\n",
       "      <td>NaN</td>\n",
       "      <td>NaN</td>\n",
       "      <td>NaN</td>\n",
       "      <td>NaN</td>\n",
       "      <td>NaN</td>\n",
       "    </tr>\n",
       "    <tr>\n",
       "      <th>3559</th>\n",
       "      <td>2021Y0291</td>\n",
       "      <td>Open Restaurants / Sidewalk Cafes</td>\n",
       "      <td>The New York City Department of Transportation...</td>\n",
       "      <td>Complete</td>\n",
       "      <td>Completed</td>\n",
       "      <td>Non-ULURP</td>\n",
       "      <td>ZR</td>\n",
       "      <td>N210434ZRY</td>\n",
       "      <td>Type I</td>\n",
       "      <td>21DOT016Y</td>\n",
       "      <td>EAS</td>\n",
       "      <td>DOT</td>\n",
       "      <td>DCP - Department of City Planning (NYC)</td>\n",
       "      <td>DCP</td>\n",
       "      <td>Citywide</td>\n",
       "      <td>CY00</td>\n",
       "      <td>NaN</td>\n",
       "      <td>False</td>\n",
       "      <td>False</td>\n",
       "      <td>EAS - Project Completed</td>\n",
       "      <td>2022-03-02</td>\n",
       "      <td>NaN</td>\n",
       "      <td>NaN</td>\n",
       "      <td>NaN</td>\n",
       "      <td>NaN</td>\n",
       "      <td>2021-06-21</td>\n",
       "      <td>2022-02-24</td>\n",
       "      <td>NaN</td>\n",
       "      <td>False</td>\n",
       "      <td>False</td>\n",
       "      <td>False</td>\n",
       "      <td>False</td>\n",
       "      <td>False</td>\n",
       "      <td>NaN</td>\n",
       "    </tr>\n",
       "    <tr>\n",
       "      <th>3642</th>\n",
       "      <td>2021Y0334</td>\n",
       "      <td>Health and Fitness Citywide Text Amendment</td>\n",
       "      <td>Proposal to amend the Zoning Resolution to mod...</td>\n",
       "      <td>Complete</td>\n",
       "      <td>Completed</td>\n",
       "      <td>Non-ULURP</td>\n",
       "      <td>ZR</td>\n",
       "      <td>NaN</td>\n",
       "      <td>Type I</td>\n",
       "      <td>21DCP183Y</td>\n",
       "      <td>EAS</td>\n",
       "      <td>DCP</td>\n",
       "      <td>DCP - Department of City Planning (NYC)</td>\n",
       "      <td>DCP</td>\n",
       "      <td>Citywide</td>\n",
       "      <td>CY00</td>\n",
       "      <td>NaN</td>\n",
       "      <td>False</td>\n",
       "      <td>False</td>\n",
       "      <td>EAS - Project Completed</td>\n",
       "      <td>2021-12-21</td>\n",
       "      <td>EAS - Review Filed EAS</td>\n",
       "      <td>2021-05-14</td>\n",
       "      <td>2021-05-14</td>\n",
       "      <td>NaN</td>\n",
       "      <td>2021-05-19</td>\n",
       "      <td>2021-12-09</td>\n",
       "      <td>NaN</td>\n",
       "      <td>False</td>\n",
       "      <td>False</td>\n",
       "      <td>False</td>\n",
       "      <td>False</td>\n",
       "      <td>False</td>\n",
       "      <td>NaN</td>\n",
       "    </tr>\n",
       "    <tr>\n",
       "      <th>12582</th>\n",
       "      <td>P2017Y0045</td>\n",
       "      <td>Zoning for Coastal Flood Resiliency</td>\n",
       "      <td>A citywide text amendment to update and make p...</td>\n",
       "      <td>Complete</td>\n",
       "      <td>Completed</td>\n",
       "      <td>Non-ULURP</td>\n",
       "      <td>NaN</td>\n",
       "      <td>NaN</td>\n",
       "      <td>Type I</td>\n",
       "      <td>19DCP192Y</td>\n",
       "      <td>EIS</td>\n",
       "      <td>DCP</td>\n",
       "      <td>DCP - Department of City Planning (NYC)</td>\n",
       "      <td>DCP</td>\n",
       "      <td>Citywide</td>\n",
       "      <td>CY00</td>\n",
       "      <td>NaN</td>\n",
       "      <td>True</td>\n",
       "      <td>True</td>\n",
       "      <td>Study - Project Completed</td>\n",
       "      <td>2021-05-26</td>\n",
       "      <td>EIS - Prepare and Review FEIS</td>\n",
       "      <td>2021-02-03</td>\n",
       "      <td>NaN</td>\n",
       "      <td>NaN</td>\n",
       "      <td>2020-10-20</td>\n",
       "      <td>NaN</td>\n",
       "      <td>NaN</td>\n",
       "      <td>NaN</td>\n",
       "      <td>NaN</td>\n",
       "      <td>NaN</td>\n",
       "      <td>NaN</td>\n",
       "      <td>NaN</td>\n",
       "      <td>NaN</td>\n",
       "    </tr>\n",
       "    <tr>\n",
       "      <th>17949</th>\n",
       "      <td>2020Y0203</td>\n",
       "      <td>Citywide Hotels Text Amendment</td>\n",
       "      <td>A Zoning Text Amendment to require a citywide ...</td>\n",
       "      <td>Complete</td>\n",
       "      <td>Completed</td>\n",
       "      <td>Non-ULURP</td>\n",
       "      <td>ZR</td>\n",
       "      <td>N210406ZRY</td>\n",
       "      <td>Type I</td>\n",
       "      <td>21DCP111Y</td>\n",
       "      <td>EIS</td>\n",
       "      <td>DCP</td>\n",
       "      <td>DCP - Department of City Planning (NYC)</td>\n",
       "      <td>DCP</td>\n",
       "      <td>Citywide</td>\n",
       "      <td>CY00</td>\n",
       "      <td>NaN</td>\n",
       "      <td>False</td>\n",
       "      <td>False</td>\n",
       "      <td>Study - Project Completed</td>\n",
       "      <td>2021-12-21</td>\n",
       "      <td>EIS - Prepare and Review FEIS</td>\n",
       "      <td>2021-07-30</td>\n",
       "      <td>2021-04-16</td>\n",
       "      <td>NaN</td>\n",
       "      <td>2021-05-03</td>\n",
       "      <td>2021-12-09</td>\n",
       "      <td>NaN</td>\n",
       "      <td>False</td>\n",
       "      <td>False</td>\n",
       "      <td>False</td>\n",
       "      <td>False</td>\n",
       "      <td>False</td>\n",
       "      <td>NaN</td>\n",
       "    </tr>\n",
       "    <tr>\n",
       "      <th>17983</th>\n",
       "      <td>2020Y0194</td>\n",
       "      <td>Elevate Transit: Zoning for Accessibility (ZFA)</td>\n",
       "      <td>The MTA and DCP are proposing a citywide zonin...</td>\n",
       "      <td>Complete</td>\n",
       "      <td>Completed</td>\n",
       "      <td>Non-ULURP</td>\n",
       "      <td>ZR</td>\n",
       "      <td>N210270ZRY</td>\n",
       "      <td>Type I</td>\n",
       "      <td>21DCP136Y</td>\n",
       "      <td>EAS</td>\n",
       "      <td>DCP</td>\n",
       "      <td>MTA - NYS Metro Transit Authority</td>\n",
       "      <td>Other Public Agency</td>\n",
       "      <td>Citywide</td>\n",
       "      <td>CY00</td>\n",
       "      <td>NaN</td>\n",
       "      <td>False</td>\n",
       "      <td>False</td>\n",
       "      <td>EAS - Project Completed</td>\n",
       "      <td>2021-10-19</td>\n",
       "      <td>NaN</td>\n",
       "      <td>NaN</td>\n",
       "      <td>NaN</td>\n",
       "      <td>NaN</td>\n",
       "      <td>2021-04-05</td>\n",
       "      <td>2021-10-07</td>\n",
       "      <td>NaN</td>\n",
       "      <td>False</td>\n",
       "      <td>False</td>\n",
       "      <td>False</td>\n",
       "      <td>False</td>\n",
       "      <td>False</td>\n",
       "      <td>NaN</td>\n",
       "    </tr>\n",
       "    <tr>\n",
       "      <th>18154</th>\n",
       "      <td>2020Y0211</td>\n",
       "      <td>FRESH Update</td>\n",
       "      <td>A citywide text amendment to expand the FRESH ...</td>\n",
       "      <td>Complete</td>\n",
       "      <td>Completed</td>\n",
       "      <td>Non-ULURP</td>\n",
       "      <td>ZR</td>\n",
       "      <td>N210380ZRY</td>\n",
       "      <td>Type I</td>\n",
       "      <td>21DCP182Y</td>\n",
       "      <td>EAS</td>\n",
       "      <td>DCP</td>\n",
       "      <td>DCP - Department of City Planning (NYC)</td>\n",
       "      <td>DCP</td>\n",
       "      <td>Citywide</td>\n",
       "      <td>CY00</td>\n",
       "      <td>NaN</td>\n",
       "      <td>False</td>\n",
       "      <td>False</td>\n",
       "      <td>Study - Project Completed</td>\n",
       "      <td>2021-12-21</td>\n",
       "      <td>EAS - Review Filed EAS</td>\n",
       "      <td>2021-05-14</td>\n",
       "      <td>2021-05-13</td>\n",
       "      <td>NaN</td>\n",
       "      <td>2021-05-19</td>\n",
       "      <td>2021-12-15</td>\n",
       "      <td>NaN</td>\n",
       "      <td>False</td>\n",
       "      <td>False</td>\n",
       "      <td>False</td>\n",
       "      <td>False</td>\n",
       "      <td>False</td>\n",
       "      <td>NaN</td>\n",
       "    </tr>\n",
       "    <tr>\n",
       "      <th>30175</th>\n",
       "      <td>P2002Y0406</td>\n",
       "      <td>WATER TAXI TEXT AMENDMENT</td>\n",
       "      <td>02DCP051Y: CHANGES TO SECTIONS 32-15 AND 32-23...</td>\n",
       "      <td>Complete</td>\n",
       "      <td>Completed</td>\n",
       "      <td>NaN</td>\n",
       "      <td>NaN</td>\n",
       "      <td>NaN</td>\n",
       "      <td>NaN</td>\n",
       "      <td>02DCP051Y</td>\n",
       "      <td>NaN</td>\n",
       "      <td>DCP</td>\n",
       "      <td>NYC-DCP</td>\n",
       "      <td>DCP</td>\n",
       "      <td>Citywide</td>\n",
       "      <td>CY00</td>\n",
       "      <td>NaN</td>\n",
       "      <td>NaN</td>\n",
       "      <td>NaN</td>\n",
       "      <td>NaN</td>\n",
       "      <td>NaN</td>\n",
       "      <td>NaN</td>\n",
       "      <td>NaN</td>\n",
       "      <td>NaN</td>\n",
       "      <td>NaN</td>\n",
       "      <td>2011-01-31</td>\n",
       "      <td>NaN</td>\n",
       "      <td>NaN</td>\n",
       "      <td>NaN</td>\n",
       "      <td>NaN</td>\n",
       "      <td>NaN</td>\n",
       "      <td>NaN</td>\n",
       "      <td>NaN</td>\n",
       "      <td>NaN</td>\n",
       "    </tr>\n",
       "  </tbody>\n",
       "</table>\n",
       "</div>"
      ],
      "text/plain": [
       "       project_id                                     project_name  \\\n",
       "2887   P2017Y0302                          M1 Hotel Special Permit   \n",
       "3559    2021Y0291                Open Restaurants / Sidewalk Cafes   \n",
       "3642    2021Y0334       Health and Fitness Citywide Text Amendment   \n",
       "12582  P2017Y0045              Zoning for Coastal Flood Resiliency   \n",
       "17949   2020Y0203                   Citywide Hotels Text Amendment   \n",
       "17983   2020Y0194  Elevate Transit: Zoning for Accessibility (ZFA)   \n",
       "18154   2020Y0211                                     FRESH Update   \n",
       "30175  P2002Y0406                        WATER TAXI TEXT AMENDMENT   \n",
       "\n",
       "                                           project_brief project_status  \\\n",
       "2887   The NYC Department of City Planning is proposi...       Complete   \n",
       "3559   The New York City Department of Transportation...       Complete   \n",
       "3642   Proposal to amend the Zoning Resolution to mod...       Complete   \n",
       "12582  A citywide text amendment to update and make p...       Complete   \n",
       "17949  A Zoning Text Amendment to require a citywide ...       Complete   \n",
       "17983  The MTA and DCP are proposing a citywide zonin...       Complete   \n",
       "18154  A citywide text amendment to expand the FRESH ...       Complete   \n",
       "30175  02DCP051Y: CHANGES TO SECTIONS 32-15 AND 32-23...       Complete   \n",
       "\n",
       "      public_status  ulurp_non actions ulurp_numbers ceqr_type ceqr_number  \\\n",
       "2887      Completed  Non-ULURP     NaN           NaN    Type I   18DCP042Y   \n",
       "3559      Completed  Non-ULURP      ZR    N210434ZRY    Type I   21DOT016Y   \n",
       "3642      Completed  Non-ULURP      ZR           NaN    Type I   21DCP183Y   \n",
       "12582     Completed  Non-ULURP     NaN           NaN    Type I   19DCP192Y   \n",
       "17949     Completed  Non-ULURP      ZR    N210406ZRY    Type I   21DCP111Y   \n",
       "17983     Completed  Non-ULURP      ZR    N210270ZRY    Type I   21DCP136Y   \n",
       "18154     Completed  Non-ULURP      ZR    N210380ZRY    Type I   21DCP182Y   \n",
       "30175     Completed        NaN     NaN           NaN       NaN   02DCP051Y   \n",
       "\n",
       "      eas_eis ceqr_leadagency                        primary_applicant  \\\n",
       "2887      EIS             DCP                                      DCP   \n",
       "3559      EAS             DOT  DCP - Department of City Planning (NYC)   \n",
       "3642      EAS             DCP  DCP - Department of City Planning (NYC)   \n",
       "12582     EIS             DCP  DCP - Department of City Planning (NYC)   \n",
       "17949     EIS             DCP  DCP - Department of City Planning (NYC)   \n",
       "17983     EAS             DCP        MTA - NYS Metro Transit Authority   \n",
       "18154     EAS             DCP  DCP - Department of City Planning (NYC)   \n",
       "30175     NaN             DCP                                  NYC-DCP   \n",
       "\n",
       "            applicant_type   borough community_district  cc_district  \\\n",
       "2887                   DCP  Citywide               CY00          NaN   \n",
       "3559                   DCP  Citywide               CY00          NaN   \n",
       "3642                   DCP  Citywide               CY00          NaN   \n",
       "12582                  DCP  Citywide               CY00          NaN   \n",
       "17949                  DCP  Citywide               CY00          NaN   \n",
       "17983  Other Public Agency  Citywide               CY00          NaN   \n",
       "18154                  DCP  Citywide               CY00          NaN   \n",
       "30175                  DCP  Citywide               CY00          NaN   \n",
       "\n",
       "      flood_zone_a flood_zone_shadedx            current_milestone  \\\n",
       "2887         False              False    EIS - Project Completed     \n",
       "3559         False              False    EAS - Project Completed     \n",
       "3642         False              False    EAS - Project Completed     \n",
       "12582         True               True  Study - Project Completed     \n",
       "17949        False              False  Study - Project Completed     \n",
       "17983        False              False    EAS - Project Completed     \n",
       "18154        False              False  Study - Project Completed     \n",
       "30175          NaN                NaN                          NaN   \n",
       "\n",
       "      current_milestone_date              current_envmilestone  \\\n",
       "2887              2018-12-26  EIS - DEIS Public Hearing Held     \n",
       "3559              2022-03-02                               NaN   \n",
       "3642              2021-12-21          EAS - Review Filed EAS     \n",
       "12582             2021-05-26   EIS - Prepare and Review FEIS     \n",
       "17949             2021-12-21   EIS - Prepare and Review FEIS     \n",
       "17983             2021-10-19                               NaN   \n",
       "18154             2021-12-21          EAS - Review Filed EAS     \n",
       "30175                    NaN                               NaN   \n",
       "\n",
       "      current_envmilestone_date app_filed_date noticed_date  \\\n",
       "2887                 2018-07-25            NaN          NaN   \n",
       "3559                        NaN            NaN          NaN   \n",
       "3642                 2021-05-14     2021-05-14          NaN   \n",
       "12582                2021-02-03            NaN          NaN   \n",
       "17949                2021-07-30     2021-04-16          NaN   \n",
       "17983                       NaN            NaN          NaN   \n",
       "18154                2021-05-14     2021-05-13          NaN   \n",
       "30175                       NaN            NaN          NaN   \n",
       "\n",
       "      certified_referred approval_date completed_date mih_flag mih_option1  \\\n",
       "2887          2018-04-23           NaN     2018-12-26      NaN         NaN   \n",
       "3559          2021-06-21    2022-02-24            NaN    False       False   \n",
       "3642          2021-05-19    2021-12-09            NaN    False       False   \n",
       "12582         2020-10-20           NaN            NaN      NaN         NaN   \n",
       "17949         2021-05-03    2021-12-09            NaN    False       False   \n",
       "17983         2021-04-05    2021-10-07            NaN    False       False   \n",
       "18154         2021-05-19    2021-12-15            NaN    False       False   \n",
       "30175         2011-01-31           NaN            NaN      NaN         NaN   \n",
       "\n",
       "      mih_option2 mih_workforce mih_deepaffordability mih_mapped_no_res  \n",
       "2887          NaN           NaN                   NaN               NaN  \n",
       "3559        False         False                 False               NaN  \n",
       "3642        False         False                 False               NaN  \n",
       "12582         NaN           NaN                   NaN               NaN  \n",
       "17949       False         False                 False               NaN  \n",
       "17983       False         False                 False               NaN  \n",
       "18154       False         False                 False               NaN  \n",
       "30175         NaN           NaN                   NaN               NaN  "
      ]
     },
     "execution_count": 36,
     "metadata": {},
     "output_type": "execute_result"
    }
   ],
   "source": [
    "df[df.community_district == \"CY00\"].head(20)"
   ]
  },
  {
   "cell_type": "code",
   "execution_count": 29,
   "id": "colonial-browser",
   "metadata": {},
   "outputs": [
    {
     "data": {
      "text/plain": [
       "R03                                                                                                    6028\n",
       "M02                                                                                                    1895\n",
       "M08                                                                                                    1497\n",
       "M07                                                                                                    1368\n",
       "M05                                                                                                    1361\n",
       "                                                                                                       ... \n",
       "Q03,Q04,Q06,Q07,Q08,Q11                                                                                   1\n",
       "K10,K12                                                                                                   1\n",
       "K01,K02,K05,K06,K07,K10,K12,K14,K16,K17,X01,X04,X05,X07,M11,Q01,Q02,Q03,Q04,Q06,Q08,Q09,Q10,Q12,R00       1\n",
       "K09,X04                                                                                                   1\n",
       "X03,X04,X05,X06,X07,X08,X09,X10,X12,M04,M07,M09,M12,Q07,Q08,Q09,Q10,Q11,Q12,Q13                           1\n",
       "Name: community_district, Length: 391, dtype: int64"
      ]
     },
     "execution_count": 29,
     "metadata": {},
     "output_type": "execute_result"
    }
   ],
   "source": [
    "# assume this is CB\n",
    "df.community_district.value_counts()"
   ]
  },
  {
   "cell_type": "code",
   "execution_count": 31,
   "id": "every-evolution",
   "metadata": {},
   "outputs": [
    {
     "data": {
      "text/plain": [
       "array(['R02', 'R03', 'X01,X03', 'X02', 'X01', 'X12', nan, 'X11', 'X04',\n",
       "       'X08', 'X10', 'R02,R03', 'X08,Q07,R01,R02', 'X09', 'X06', 'K06',\n",
       "       'X11,X12', 'K01', 'K07', 'R01', 'K13', 'K15', 'K14', 'K04', 'X03',\n",
       "       'K16', 'K10', 'K00,X00,CY00,M00,Q00,R00', 'K02', 'K04,K16', 'X05',\n",
       "       'K03', 'M02', 'M04', 'M01', 'M05', 'K00,Q00,R00', 'M12', 'K18',\n",
       "       'M04,M05', 'M09', 'K05', 'K12', 'M11', 'K11', 'M10', 'M08', 'M03',\n",
       "       'M06', 'M07', 'K00,X00,CY00,M00,M07,Q00,R00', 'K08', 'Q04', 'Q03',\n",
       "       'Q14', 'Q07', 'Q08', 'Q05', 'Q01', 'Q02', 'Q06', 'M03,M06', 'Q11',\n",
       "       'K00,X00,CY00,M00,Q00,Q11,R00', 'K00,X00,CY00,M00,Q00,Q08,R00',\n",
       "       'Q13', 'R00', 'Q10', 'R01,R02,R03', 'Q12,Q13', 'Q09', 'X07',\n",
       "       'K00,X00,X12,CY00,M00,Q00,R00', 'K09', 'K17,K18', 'K17',\n",
       "       'K00,K03,X00,CY00,M00,Q00,R00', 'X01,X02,X04',\n",
       "       'K00,X00,M00,M02,Q00', 'M01,M03', 'M05,M06', 'Q12', 'Q00',\n",
       "       'Q07,Q08', 'Q08,Q12', 'K06,K08', 'K01,K03', 'X00', 'K00',\n",
       "       'K06,K07', 'K03,K13', 'M10,M11', 'M09,M10,M11', 'K02,M05,M06',\n",
       "       'Q10,Q12,Q13,Q14', 'Q01,Q03,Q07,Q09,Q10,Q12,Q13,Q14',\n",
       "       'K00,X00,M04,Q00,R00', 'K01,K02,K04', 'K05,M05', 'M01,M02,M04',\n",
       "       'X10,X12', 'M04,M05,M06', 'K05,K16', 'X09,X10', 'X04,X05,X07',\n",
       "       'CY00', 'K02,K06', 'Q10,Q14', 'M03,M11', 'M03,M02', 'K02,K01',\n",
       "       'M04,M05,M06,M07,M08', 'M07,M09', 'M00', 'M01,M02,M03,M04,M05,M06',\n",
       "       'M02,M03,M08', 'M04,M07', 'Q04,Q05', 'Q09,Q10', 'Q03,Q04,Q07',\n",
       "       'X08,R01,R02,R03', 'X10,X04', 'M02,M12', 'X07,X08,X12',\n",
       "       'M02,M04,M05', 'Q09,Q10,Q12', 'X07,X12', 'M02,M04', 'M05,M07',\n",
       "       'R02,R01', 'Q01,Q02', 'M00,M01', 'M05,M06,M08', 'X06,X09',\n",
       "       'X06,X07', 'X03,X09', 'K00,X00,M00,Q00', 'Q05,Q06', 'X03,X06',\n",
       "       'X10,R00,R02,R03', 'X10,X11', 'K03,X07', 'K12,K10', 'K13,K15',\n",
       "       'MN01;MN02;MN03;MN04;MN05;MN06;MN07;MN08;MN09;MN10;MN11;MN12;BK01;BK02;BK15;QN01;QN02;QN07;QN12;QN14;BX01;BX04',\n",
       "       'K00,X00,CY00,M00,M04,Q00,R00', 'K12,K14,K15', 'M01,M05',\n",
       "       'Q01,Q03', 'Q03,Q04,Q12,Q13', 'K00,X00,CY00,M00,Q00,R00,R01',\n",
       "       'X01,X04',\n",
       "       'K00,Q01,Q02,Q03,Q04,Q05,Q06,Q07,Q08,Q09,Q10,Q12,Q13,Q14,R00',\n",
       "       'X00,M00', 'X01,X02,X03,X04,X05,X06,X07,X09,X10,X11,X12,Q12,Q14',\n",
       "       'K06,K07,K10,M01,M02,R00', 'K00,M00,Q00', 'X00,Q00',\n",
       "       'K02,K03,K05,K06,K07,K08,K10,K16,M01,M02,M03,M04,Q08,Q09,R01,R02',\n",
       "       'M04,M08', 'M09,M10', 'Q01,Q03,Q04,Q07',\n",
       "       'Q03,Q07,Q08,Q09,Q10,Q11,Q12,Q13',\n",
       "       'X01,X04,X05,X07,X08,M05,M06,M08,M10,M11', 'K03,K13,M01,M02,M07',\n",
       "       'K02,K06,K07,K10,X01,X02,X03,X04,X05,X06,X07,X08,X09,X10,X12,M01,M02,M03,M04,M05,M07,M09,M10,M11,M12,Q07,Q08,Q11,Q13,R01,R02',\n",
       "       'X01,X03,X04,X05,X06,X07,X08,X09,X10,X11,X12,M00,Q00',\n",
       "       'X01,X04,X05,X07,X08,M04,M05,M06,M07,M08,M09,M10,M11,Q01,Q02,Q04,Q05,Q06,Q07,Q08,Q09,Q10,Q11,Q12,Q13',\n",
       "       'K05,K06,K07,K12,K14,K15,K17,K18,M01,M03,M05,M06,Q02,Q04,Q05,Q06,Q09,Q10',\n",
       "       'X01,X02,X03,X06,X11,X12,M01,M03,M05,M06,M08,M11',\n",
       "       'X01,X02,X03,X06,X09,X11,X12,M01,M02,M03,M06,M08,M10,M11',\n",
       "       'K14,K17', 'K06,K14', 'M00,M05', 'Q03,Q04,Q06,Q07', 'X07,X08',\n",
       "       'X01,X02,X09,X10,M05,M06,M08,M11', 'K00,R00',\n",
       "       'K02,K13,K15,K18,X05,X06,X07,X08,X10,X11,M01,M02,M03,M05,M06,M07,M08,Q01,Q02,Q04,Q06,Q09,Q10,R01',\n",
       "       'X01,X04,X05,X07,X08,M01,M02,M03,M04,M05,M06,M07,M08,M10,M11,M12',\n",
       "       'K14,M01,M07,M12', 'K14,X08',\n",
       "       'X03,X04,X05,X06,X07,X08,X09,X10,X12,M04,M07,M09,M12,Q07,Q08,Q09,Q10,Q11,Q12,Q13',\n",
       "       'M08,Q12',\n",
       "       'M04,M05,M06,M07,M08,M11,Q01,Q02,Q03,Q04,Q05,Q06,Q09,Q10,Q12',\n",
       "       'K02,M01,M04,M05,M06', 'K02,K06,K15,K17,K18',\n",
       "       'M01,M02,M03,M04,M05,M06,M07,M08', 'K00,X00,CY00,M00,M06,Q00,R00',\n",
       "       'M03,M06,M08,M11', 'K00,X00,CY00,M00,M01,Q00,R00', 'M06,M08',\n",
       "       'M04,M05,M07,M08,M09,M10,M11', 'Q04,Q06,Q07', 'Q11,Q12,Q13,Q14',\n",
       "       'Q10,Q12', 'R01,R02', 'X01,X02,X03,X04,X05,X06', 'K00,M04,M06,Q00',\n",
       "       'X01,X04,X07,X12,Q01,Q03,Q05,Q06,Q07,Q08,Q09,Q10,Q11,Q12,Q13,Q14',\n",
       "       'K05,K18', 'M01,M02,M03,M04,M05', 'M02,M03,M05', 'M07,M08',\n",
       "       'Q01,Q02,Q03,Q07', 'Q11,Q13', 'K02,X00,M00,Q00,R00',\n",
       "       'K11,K12,K13,K14,K15', 'M00,Q00', 'K00,M00', 'K08,X05,X07',\n",
       "       'K11,K12', 'K02,K06,K08', 'M08,M11', 'Q07,Q11', 'X03,X04',\n",
       "       'X02,X09', 'K00,X00,CY00,M00,Q00,Q02,R00', 'X04,M12', 'M05,M08',\n",
       "       'M02,M03', 'Q03,Q04,Q06,Q07,Q08', 'R03,R01', 'Q01,Q03,Q07',\n",
       "       'M02,M06,M07,M08,M10,M11', 'K00,X00,CY00,M00,Q00,R00,R02',\n",
       "       'K10,K12', 'M05,M06,M07,M08,M10,M11', 'X04,X08', 'M05,M09',\n",
       "       'X11,X10', 'X10,M10', 'M02,M05', 'M08,M06,M05', 'Q10,Q12,Q13',\n",
       "       'K09,X04', 'K00,X00,Q00,R00', 'M07,M09,Q09', 'Q01,Q10', 'M01,R01',\n",
       "       'K00,K06,X00,CY00,M00,Q00,R00', 'K00,K01',\n",
       "       'K00,X00,CY00,M00,Q00,Q07,Q11,R00', 'K00,X00,X04,CY00,M00,Q00,R00',\n",
       "       'Q07,Q08,Q11', 'X02,X03', 'X02,M03', 'X08,R03', 'K06,K07,M01,M02',\n",
       "       'M09,Q06', 'M04,M05,M06,M07,R00', 'M04,M05,M07',\n",
       "       'M07,M08,M09,M10,M11,M12', 'M01,M02', 'K03,K16', 'K07,K10',\n",
       "       'K07,K12,K14,K15', 'K11,K15', 'Q03,Q04', 'X01,M11', 'X06,X05',\n",
       "       'M01,M02,M03,M04,M05,M06,M08', 'M11,M10', 'X10,X09',\n",
       "       'K06,K07,K10,M01,M02,M04,M05', 'K01,K02,K06,Q02,Q04',\n",
       "       'K01,K02,K03', 'K02,K03', 'K12,K14', 'K01,K02', 'K04,K06,K08,K10',\n",
       "       'K09,K12,K14,K17,K18', 'Q03,Q04,Q06,Q07,Q08,Q09,Q10,Q11,Q12,Q13',\n",
       "       'M06,Q01,Q02,Q04,Q05,Q06,Q07,Q08,Q11', 'X04,M08,R01',\n",
       "       'M04,M05,M06,M08,Q01,Q02,Q03,Q04,Q06,Q08,Q09,Q10,Q12,Q13',\n",
       "       'X01,X04,X05,X07,X08,X12,M05,M06,M08,M11', 'M01,M03,M08',\n",
       "       'M05,M06,M09', 'Q03,Q04,Q05,Q07,Q08,Q09,Q10,Q11,Q12,Q13',\n",
       "       'X05,X06,X07,X10,X11,X12,M12',\n",
       "       'K02,K05,K06,K07,K08,K09,K10,K11,K14,K15,K16,K17,K18,M01,M02,M03',\n",
       "       'K01,K02,K03,K04,K05,K08,K16,X10,X12,Q04,Q05,Q06,Q07,Q08,Q09,Q10,Q11,Q12,Q13',\n",
       "       'X01,X02,X04,X05,X07,X08,X10,X11,X12,M02,M04,M05,M06,M07,M08,M09,M10,M11,M12,Q01,Q02,Q03,Q04,Q06,Q07,Q08,Q09,Q10,Q11,Q12,Q13',\n",
       "       'X01,X04,X05,X06,X07,X08,M04,M05,M07,M08,M09,M10,M11',\n",
       "       'K02,M05,M08', 'K08,X10,X12,Q14',\n",
       "       'X01,X02,X09,X10,M01,M03,M05,M06,M08,M11',\n",
       "       'X01,X04,X05,X07,M01,M02,M03,M04,M06,M07,M08,M09,M10,M11,M12',\n",
       "       'M01,Q01',\n",
       "       'K01,K02,K05,K06,K07,K10,K12,K14,K16,K17,X01,X04,X05,X07,M11,Q01,Q02,Q03,Q04,Q06,Q08,Q09,Q10,Q12,R00',\n",
       "       'K00,X00,CY00,M00,M02,Q00,R00', 'Q03,Q04,Q06',\n",
       "       'K02,K05,K06,K07,K10,K11,K12,K14,K18,X04,X10,X11,M02,M04,M05,M06,M07,M08,M09,M11,Q02,Q03,Q04,Q06,Q07,Q08,Q09,R02',\n",
       "       'K05,K10,K12,K14,K16,K17,X05,X06,X07,M01,M02,M03,M04,M07,M09,M10,M12,Q05,R01,R02',\n",
       "       'K05,K11,K14,K16,K18,Q03,Q04,Q06,Q08,Q09,Q10,Q12,R00',\n",
       "       'K10,K12,K14,K16,K18,R00',\n",
       "       'X01,X04,X05,X07,X08,X10,X12,Q01,Q03,Q07,Q08,Q09,Q10,Q12,Q13',\n",
       "       'M01,M03,M04,M05,M06,Q01,Q02,Q03,Q04,Q05,Q06,Q08,Q09,Q10,Q12',\n",
       "       'M02,R01', 'K01,K02,K03,K04,K08', 'M01,M03,M06,M08,M11',\n",
       "       'M01,M04,M05,M06,M08', 'Q01,Q07,Q11,Q13', 'Q02,Q05', 'X04,X05,X08',\n",
       "       'X01,X02', 'K01,M01,M02,M04,M05,M06,M07,M09', 'K18,M08',\n",
       "       'X01,X04,X05,X07,X08,M03,M06,M08,M11,Q01,Q02,Q04,Q05,Q06,Q08,Q09,Q10,Q11,Q13',\n",
       "       'K02,M01', 'M01,M09', 'Q02,Q04,Q05,Q06,Q07,Q08,Q11',\n",
       "       'Q03,Q04,Q06,Q07,Q08,Q09', 'K00,M00,Q00,R00',\n",
       "       'X04,X05,X06,X07,M12', 'X07,X08,Q03,R03',\n",
       "       'K01,K05,X06,M04,M05,M10', 'K02,X04,M08', 'X01,X02,X03',\n",
       "       'M02,M03,M05,M06', 'K06,K07,K10,K11,M01,M02,M04,M05',\n",
       "       'K02,K06,K07,K10,K11,K12,M01,M02,M04,M05',\n",
       "       'K00,X00,M03,M05,Q00,R00',\n",
       "       'K05,M05,M06,M08,Q01,Q02,Q04,Q05,Q06,Q09,Q10,Q14',\n",
       "       'X10,M05,M06,Q01,Q02,Q03,Q07', 'M04,M05,R00', 'K03,K04,K05,K01',\n",
       "       'M03,M04,M05,M07', 'K02,K06,K07', 'M01,M02,M03', 'Q05,Q06,Q09',\n",
       "       'K05,K04,K16', 'X01,K02,M01,Q09', 'M03,M04', 'M03,M01',\n",
       "       'K06,K07,K10,M01,M04,M05,M06,M07,R00',\n",
       "       'K01,K02,K03,K04,X00,M00,Q00', 'K01,K02,K06,Q01,Q02',\n",
       "       'X06,X09,X11', 'K14,X02,X03,X07,X08,X10,M06',\n",
       "       'X01,X04,X05,X07,X08,X12,Q01,Q03,Q04,Q06,Q08,Q09,Q10,Q12',\n",
       "       'X04,M08,K01,Q01,R03,M05,Q07,Q12', 'M06,M08,Q02,Q04,Q07,Q08,Q09',\n",
       "       'M00,R00', 'K05,K18,M01,M03,M05,M06,M08,Q02,Q05,Q06,Q09',\n",
       "       'K01,K02,K06,K07,K12', 'K02,K08', 'M00,M08', 'M07,M10', 'M01,M04',\n",
       "       'Q02,Q03', 'X04,X05,M12',\n",
       "       'X01,X02,X03,X06,X09,X10,X11,X12,M01,M03,M05,M06,M08,M10,M11',\n",
       "       'K01,Q02', 'M04,M05,M06,Q02,Q04,Q05,Q06,Q07,Q08,Q11', 'X00,R00',\n",
       "       'K01,K02,K08,X01,M10,M11,Q01,Q02',\n",
       "       'K06,K07,K10,M01,M02,M03,M04,M05,M06,M07,R00', 'M00,M07',\n",
       "       'M01,M02,M03,M04,M05,M06,Q01,Q02,Q03,Q04,Q08,Q09,Q10,Q12',\n",
       "       'K00,X00,CY00,M00,M12,Q00,R00', 'Q03,Q04,Q06,Q07,Q08,Q11',\n",
       "       'X01,X02,X03,X06,X09,X11,X12,M05,M06,M08,M10,M11', 'X07,M12',\n",
       "       'K06,K07,K08,M01,M02,R00',\n",
       "       'M05,M06,Q01,Q02,Q03,Q04,Q05,Q06,Q10,Q14', 'X00,M00,Q00',\n",
       "       'K05,X01,X04,X07,X08,X10,X12,M05,M06',\n",
       "       'Q03,Q04,Q06,Q08,Q09,Q10,Q11,Q12', 'X05,X07,X08,M04,M07,M09,M12',\n",
       "       'K00,M00,Q01', 'Q01,Q07', 'X00,M00,Q00,R00', 'K09,K14', 'Q14,Q12',\n",
       "       'K00,K02,X00,CY00,M00,Q00,R00', 'K01,K02,K03,K04', 'R01,R03',\n",
       "       'K07,K12,K13,K14,K15', 'K06,K08,K09', 'M05,Q05', 'M11,M12',\n",
       "       'M06,M07', 'M04,M06', 'Q01,Q03,Q07,Q10,Q12,Q13,Q14', 'X05,X06,X07',\n",
       "       'R03,R02', 'K00,X00,X10,CY00,M00,Q00,R00', 'R00,R03',\n",
       "       'M01,M08,M11', 'X00,R00,R02,R03'], dtype=object)"
      ]
     },
     "execution_count": 31,
     "metadata": {},
     "output_type": "execute_result"
    }
   ],
   "source": [
    "df.community_district.unique()"
   ]
  },
  {
   "cell_type": "markdown",
   "id": "average-democrat",
   "metadata": {},
   "source": [
    "I wonder what R03 goes to? Staten Island? That is surprising it has the top number of rezoning?\n",
    "\n",
    "Same with X0 - Bronx?\n",
    "\n",
    "CY?\n",
    "\n",
    "Generally seems okay"
   ]
  },
  {
   "cell_type": "markdown",
   "id": "domestic-child",
   "metadata": {},
   "source": [
    "Interesting how \"Case Iron\" and \"artists\" comes up very often from the projects scoped for the area in Soho...but not for \"Noho\""
   ]
  },
  {
   "cell_type": "code",
   "execution_count": 23,
   "id": "resistant-reach",
   "metadata": {},
   "outputs": [
    {
     "data": {
      "text/plain": [
       "95DCP048M: TO RENOVATE BLDG FOR USE AS JOINT LIVING-WORK QUARTERS FOR ARTISTS, A MUSEUM AND RETAIL SPACE WITHIN THE SOHO CAST IRON HISTORIC DIST.                                                                                                                                                                                                                                                                                                                                       2\n",
       "SOHO BUSINESS IMPROVEMENT DIST                                                                                                                                                                                                                                                                                                                                                                                                                                                          1\n",
       "SPECIAL PERMIT TO CONVERT P/O THE BUILDING TO JOINT LIVING/*WORKING QUARTERS FOR ARTISTS (UG 17D) IN THE SOHO-CAST IRON*HISTORIC DISTRICT                                                                                                                                                                                                                                                                                                                                               1\n",
       "SPEC PERMIT (ZR74-781) TO ALLOW A RETAIL STORE IN THE M1-5A*DIST OF SOHO                                                                                                                                                                                                                                                                                                                                                                                                                1\n",
       "06DCP078M: SPECIAL PERMIT UNDER ZR 74-712 FOR RESIDENTIAL DEV. AND GROU ND FL. RETAIL USE ON A PARKING LOT IN AN M1-5A/M1-5B SPLIT L OT WITHIN THE SOHO-CAST IRON HISTROIC DISTRICT                                                                                                                                                                                                                                                                                                     1\n",
       "CERT OF GRANDFATHERING DETERMINATION(ZR42-141)THAT UNIT WAS*VACANT AS OF 1/28/76 IN SOHO DIST                                                                                                                                                                                                                                                                                                                                                                                           1\n",
       "SOHO/NOHO ZONING TEXT CHANGE ZR42-14D TO ALLOW*LIBRARIES,MUSEUMS & NON-COMMERCIAL ART GALLERIES                                                                                                                                                                                                                                                                                                                                                                                         1\n",
       "SPEC PERMIT TO CHANGE USE OF 4TH FLR FROM MANUFACTURING TO*JOINT-LIVING WORK QUARTERS FOR ARTISTS IN THE SOHO CAST*IRON HISTORIC DIST                                                                                                                                                                                                                                                                                                                                                   1\n",
       "This is a private application by 6163 Crosby Street, Inc. for a special permit pursuant to Section 74-711 of the Zoning Resolution, to modify the use regulations of Section 42-14(D)(2)(b) to allow UG 6 retail use on the ground floor and cellar of the an existing five-story building located at 61-63 Crosby Street (Block 482, Lot 13), in an M1-5B district, within the SoHo Cast-Iron Historic District Extension, Manhattan Community District 2.                             1\n",
       "07DCP004M: SPECIAL PERMIT FOR RESIDENTIAL DEVELOPMENT AND GROUND FL. RE TAIL USE WHAT IS NOW A PARKING LOT IN AN M1-5A/M1-5B SPLIT L OT WITH THE SOHO-CAST IRON HISTORIC DISTRICT                                                                                                                                                                                                                                                                                                       1\n",
       "CERTIFICATION FOR JOINT LIVING-WORK QUARTERS FOR ARTISTS*(UG 17D) IN THE CELLAR IN SOHO CAST IRON HISTORIC DIST                                                                                                                                                                                                                                                                                                                                                                         1\n",
       "Special permit pursuant to ZR Section 74-711 to allow retail use on the ground floor and cellar in an existing five-story building at 62 Greene Street, in an M1-5A zoning district within the SoHo Cast Iron Historic District.                                                                                                                                                                                                                                                        1\n",
       "This is a private application by 65 Spring Realty, LLC requesting a special permit pursuant to ZR Section 74-781 to facilitate the conversion of portions of the ground floor and cellar space in an existing building to Use Group 6 retail uses at 65 Spring Street (Block 496, Lot 35) in an M1-5B zoning district, in SoHo, Community District 2, Manhattan.                                                                                                                        1\n",
       "SPECIAL PERMIT TO ALLOW USE GROUP 6 IN THE CELLAR & 1ST FLR*IN AN M1-5A DIST IN THE SOHO CAST IRON HISTORIC DIST                                                                                                                                                                                                                                                                                                                                                                        1\n",
       "SPECIAL PERMIT TO MODIFY & CONVERT ALL UNITS ON FLOORS 2-9*TO RESIDENTIAL USE IN THE SOHO/NOHO SPECIAL DISTRICT                                                                                                                                                                                                                                                                                                                                                                         1\n",
       "SPECIAL PERMIT TO LEGALIZE USE GROUP 6 RETAIL USE BELOW THE*LEVEL OF THE 2ND FLOOR & TO ADD APPROX 1400SF ROOF TOP ADDI-*TION FOR USE AS JOINT LIVING-WORKING QUARTERS FOR ARTISTS IN*THE SOHO CAST IRON HISTORIC DIST                                                                                                                                                                                                                                                                  1\n",
       "SPEC PERMIT TO LEGALIZE EXISTING LIVING-WORK QUARTERS FOR*ARTISTS FOR 2 UNITS ON THE 7TH FLOOR & 1 UNIT ON THE 11TH*FLOOR IN THE SOHO IRON HISTORIC DISTRICT                                                                                                                                                                                                                                                                                                                            1\n",
       "95DCP023M: SPECIAL PERMIT (ZR74-711) TO PERMIT THE RESTORATION OF THE BLDGS FOR USE AS JOINT LIVING-WORK QUARTERS & RETAIL SPACE WITHIN THE SOHO CAST IRON HISTORIC DIST                                                                                                                                                                                                                                                                                                                1\n",
       "SPEC PERMIT (ZR74-782) FOR FLRS 6-9 & 11 & 12 TO ALLOW*JOINT LIVIING/WORKING QUARTERS FOR ARTISTS IN M1-5B DIST IN*SOHO                                                                                                                                                                                                                                                                                                                                                                 1\n",
       "This is an application by the Landmarks Preservation Commission (LPC) requesting landmark designation for the Gay Activists Alliance Firehouse located at 99 Wooster Street (Block 501, Lot 30) in the SoHo neighborhood, Community District 2, Manhattan.                                                                                                                                                                                                                              1\n",
       "SPECIAL PERMIT TO ALLOW EITHER UG-5 (HOTEL) OR UG-6 (OFFICE*OR RETAIL) USE BELOW THE 2ND FLOOR LEVEL IN A PROPOSED NEW*12-STORY BLDG IN THE SOHO CAST IRON HISTORIC DISTRICT                                                                                                                                                                                                                                                                                                            1\n",
       "CHAIRMAN'S CERT (ZR42-141) TO ALLOW USE GROUP 6 & 17D-JOINT*LIVING/WORKING QUARTERS FOR ARTISTS FOR UNIT ON GROUND FLR*OF BLDG IN M1-5A DIST IN SOHO                                                                                                                                                                                                                                                                                                                                    1\n",
       "Special permits pursuant to ZR Section 74-712 and related zoning text amendment to ZR Section74-712 to facilitate a new residential development within SoHo Cast Iron Historic District.                                                                                                                                                                                                                                                                                                1\n",
       "This is a private application by 419 MM LLC requesting a special permit pursuant to ZR Section 74-711 to allow Use Group 6 retail and office uses below the level of the second story and height and setback waivers to facilitate the development of an 8-story commercial building and the restoration of a historic row-house, at 419 Broadway in SoHo, Community District 2, Manhattan.                                                                                             1\n",
       "AUTH TO CONVERT UNIT 2E TO A JOINT LIVING-WORKING QUARTERS*FOR AN ARTIST IN THE SOHO CAST IRON HISTORIC DIST                                                                                                                                                                                                                                                                                                                                                                            1\n",
       "SPEC PERMIT FOR APPROVAL OF JOINT LIVING WORK QUARTERS FOR*ARTISTS ON FLOORS 8 & 11 WITH AREA APPROX 13,000SF IN THE*SOHO DIST                                                                                                                                                                                                                                                                                                                                                          1\n",
       "SPEC PERMIT TO RENT GROUND FLR, MEZZANINE & ACCESSORY CELLAR*SPACE FOR UG-6 USES IN THE SOHO-CAST IRON HISTORIC DIST                                                                                                                                                                                                                                                                                                                                                                    1\n",
       "SPECIAL PERMIT FOR MODIF OF TO RENT GROUND FLOOR & ACCESSORY*CELLAR STORAGE AREA FOR USE GROUP 6 IN THE SOHO CAST IRON*DIST                                                                                                                                                                                                                                                                                                                                                             1\n",
       "AUTH TO CONVERT FLOORS 2 THRU 5 TO JOINT LIVING-WORKING*QUARTERS FOR ARTISTS W/IN THE SOHO CAST IRON HISTORIC DIST                                                                                                                                                                                                                                                                                                                                                                      1\n",
       "00DCP005M: SPECIAL PERMIT PURSUANT TO SECTION 74-711 OF THE ZR, TO MODI FY THE USE REGULATIONS APPLICABEL TO M1-5B DISTRICTS FOR A S ITE WITHIN THE SOHO-CAST IRON HISTORIC DISTRICT                                                                                                                                                                                                                                                                                                    1\n",
       "06DCP114M: SPECIAL PERMIT TO ENLARGE AND RENOVATE TWO BUILDINGS WITHIN THE SOHO-CAST IRON HISTORIC DISTRICT FOR RESIDENTIAL USE                                                                                                                                                                                                                                                                                                                                                         1\n",
       "SPEC PERMIT(ZR74-78), TO PERMIT MODIF OF ZR42-14D(E), SOHO*DIST FOR JOINT LIVING/WORKING QUARTERS FOR_ARTISTS                                                                                                                                                                                                                                                                                                                                                                           1\n",
       "This is an application by the Landmarks Preservation Commission (LPC) requesting landmark designation for The Caffe Cino, located at 31 Cornelia Street (Block 590, Lot 30) in the SoHo neighborhood, Community District 2, Manhattan.                                                                                                                                                                                                                                                  1\n",
       "SPEC PERM TO USE PART OF THE GROUND FLOOR AS RETAIL SPACE IN*M1-5A BLDG IN SOHO DIST.*BL487 LOT78                                                                                                                                                                                                                                                                                                                                                                                       1\n",
       "SPEC. PERM. TO MOD. USE REGS TO AN EXIST. 8-STORY BUILDING*IN THE SOHO-CAST IRON HISTORIC DISTRICT                                                                                                                                                                                                                                                                                                                                                                                      1\n",
       "04DCP007M: SPECIAL PERMIT PURSUANT TO Z.R. SECTION 74-711 TO LEGALIZE E XISTING USE GROUP 6 RETAIL SPACAE IN THE GROUND FLOOR OF A B UILDING WITHIN THE SOHO CAST IRON HISTORIC DISTRICT                                                                                                                                                                                                                                                                                                1\n",
       "SPECIAL PERMIT (ZR74-782) TO LEGALIZE CONVERSION OF FLOORS*2 THRU 5 IN SOHO M1-5B DISTRICT                                                                                                                                                                                                                                                                                                                                                                                              1\n",
       "CERT (ZR42-141) TO MODIFY SECTIONS (ZR42-14(D)D),*42-14(D)E), LOCATED AT 152 WOOSTER STREET IN SPECIAL SOHO*DISTRICT (LOT 10)                                                                                                                                                                                                                                                                                                                                                           1\n",
       "Special permit pursuant to ZR Section 74-711 to allow retail uses on the ground floor and cellar of an existing building in a M1-5B zoning district within the SoHo Cast Iron Historic District.                                                                                                                                                                                                                                                                                        1\n",
       "This is a private application by Square-Churchill Mercer, LLC requesting a special permit pursuant ZR §74-711 to modify the use requirements of ZR §42-14D(2)(b) to allow Use Group 6 retail use on the ground floor and cellar, and the bulk requirements of ZR §43-17 to allow the enlargement of a building containing joint living-work quarters for artists (JLWQA) in a building located at 5 Mercer Street in an M1-5B zoning district, SoHo, Manhattan Community District 2.    1\n",
       "SPEC PERMIT TO ALLOW JOINT LIVING/WORKING QUARTERS FOR*ARTISTS IN AN M1-5 DIST OF SOHO                                                                                                                                                                                                                                                                                                                                                                                                  1\n",
       "SPECIAL PERMIT TO ALLOW 10 JOINT LIVING-WORK QUARTERS FOR*ARTISTS ON FLOORS 2 THRU 7, AN ADD'L 3 JLWQ BELOW THE 2ND*FLR, AND ENLARGE THE BLDG AT CROSBY ST, AND PERMIT UG-6 USES*THE 2ND FLOOR AT 472 BDWAY IN THE SOHO CAST IRON HIST DIST                                                                                                                                                                                                                                             1\n",
       "SPEC PERMIT FOR MODIFICATION OF THE USE REGULATION TO ALLOW*UG8 IN THE CELLAR & UG6 AT THE 1ST FLOOR TO CONSTRUCT A GAL-*LERY & 74 SEAT SCREENING ROOM IN THE SOHO CAST IRONWORKS                                                                                                                                                                                                                                                                                                       1\n",
       "08DCP020M: SEEKING A SPECIAL PERMIT AND WAIVER FROM CPC THAT WOULD ALLO W RESIDENTIAL AND COMMERCIAL USES IN AN EXISTING COMMERCIAL BUILDING IN AN M1-5A IN SOHO CAST IRON HISTORIC DISTRICT                                                                                                                                                                                                                                                                                            1\n",
       "This is a private application by FSF SoHo LLC seeking a special permit to modify the use regulations of M1 district to allow a large retail establishment over 10,000 sf on portions of the cellar, ground floor and second floor of an existing building located at 503 Broadway in SoHo, Community District 2, Manhattan.                                                                                                                                                             1\n",
       "SPEC PERMIT (ZR74-782) TO LEGALIZE CONVERSION OF 6 & 8-11*LOFT FLRS TO JOINT LIVING/WORK QUARTERS FOR ARTISTS IN SOHO*DIST                                                                                                                                                                                                                                                                                                                                                              1\n",
       "SOHO BID-Sanitation and graffiti removal, public safety and visitor services, marketing, promotion and advertising, small capital improvement projects.                                                                                                                                                                                                                                                                                                                                 1\n",
       "SoHo/NoHo Neighborhood Plan seeks to strengthen SoHo and NoHo as mixed-use neighborhoods and promote equity. The proposal will expand housing opportunities for New Yorkers, reduce burdens for residents and businesses, and support continued economic and cultural success in a holistic way. For a list of affected blocks/lots and project area boundary, see Public Documents.                                                                                                    1\n",
       "SPECIAL PERMIT TO ALLOW THE USE OF THE GROUND FLOOR & CELLAR*OF THE NEW BLDG FOR RETAIL (UG-6) & THE UPPER STORIES FOR*OFFICE USE IN THE SOHO CAST IRON DIST                                                                                                                                                                                                                                                                                                                            1\n",
       "08DCP030M: SPECIAL PERMIT AND WAIVER THAT WOULD ALLOW RESIDENTIAL AND C OMMERCIAL USES IN AN EXISTING COMMERCIAL BUILDING IN AN M1-5 A DISTRICT IN THE SOHO CAST IRON HISTORIC DISTRICT                                                                                                                                                                                                                                                                                                 1\n",
       "CERT OF GRANDFATHER DETERMINATION(ZR42-141)THAT 1 UNIT WAS*VACANT AS OF 1/28/76 IN SOHO DIST                                                                                                                                                                                                                                                                                                                                                                                            1\n",
       "Applicant seeks a special permit for residential development and ground floor retail use in what is currently a parking lot in an M1-5/M1-5B split lot within the Soho-Cast Iron Historic District.                                                                                                                                                                                                                                                                                     1\n",
       "SPEC PERMIT TO ALLOW JOINT LIVING-WORK QUARTERS FOR ARTISTS*IN THE SOHO CAST IRON HISTORIC DISTRICT                                                                                                                                                                                                                                                                                                                                                                                     1\n",
       "07DCP018M: SPECIAL PERMIT FOR RESIDENTIAL DEVLEOPMENT AND GROUND FL. RE TAIL IN AN M1-5B DISTRICT IWHTIN THE SOHO-CAST HISTORIC DIST RICT                                                                                                                                                                                                                                                                                                                                               1\n",
       "Greene Street Properties, LLC, is seeking a Special Permit pursuant to ZR 74-711 to modify the use regulations of ZR 42-14D(1)(a) & 42-14D(2)(a) and bulk regulations of ZR 43-17 to facilitate the development of a penthouse addition and UG 6 retail uses below the second story in a building located in an M1-5A zoning district at 96-98 Greene Street in SoHo, Community District 2, Manhattan.                                                                                  1\n",
       "SPECIAL PERMIT TO CONVERT SPACE BELOW THE 2ND FLOOR TO*RETAIL USE WITHIN THE SPECIAL SOHO DISTRICT                                                                                                                                                                                                                                                                                                                                                                                      1\n",
       "97DCP072M: THIS PROJECT PROPOSES THE EXPANSION OF THE EXISTING GUGGENHE IM SOHO MUSEUM TO PROVIDE ADDITIONAL EXHIBITION AND MUSEUM R ELATED SPACE                                                                                                                                                                                                                                                                                                                                       1\n",
       "07DCP017M: SPECIAL PERMIT UNDER ZR 74-712 FOR RESIDENTIAL DEV. AND GROU ND FL. RETAIL USE IN AN M1-5B DISTRICT WITHIN THE SOHO-CAST IRON HISTORIC DISTRICT                                                                                                                                                                                                                                                                                                                              1\n",
       "06DCP055M: PROPOSED MIXED-USE RETAIL/RESIDENTIAL DEVELOPMENT CONSISTING  OF A NEW BUILDING IN THE SOHO SECTION OF MANHATTAN IN THE_S OHO CAST-IRON HISTORIC DISTRICT                                                                                                                                                                                                                                                                                                                    1\n",
       "SPEC PERMIT FOR PROPOSED LEGALIZATION OF EXISTING JOINT*LIVING/WORK QUARTERS FOR ARTISTS ON 3RD - 6TH FLRS WHERE LOT*COVERAGE IS GREATER THAN 3600SF IN SOHO CAST IRON DIST.*BL498 LOT15                                                                                                                                                                                                                                                                                                1\n",
       "Name: project_brief, dtype: int64"
      ]
     },
     "execution_count": 23,
     "metadata": {},
     "output_type": "execute_result"
    }
   ],
   "source": [
    "df[df.project_brief.str.contains(\"Soho\", case=False, na=False)].project_brief.value_counts()"
   ]
  },
  {
   "cell_type": "code",
   "execution_count": 28,
   "id": "peaceful-liabilities",
   "metadata": {},
   "outputs": [
    {
     "data": {
      "text/plain": [
       "95DCP063M: TO ALLOW A CONSOLIDATION OF EXISTING RETAIL SPACE ON A SITE LOCATED ON THE EAST SIDE OF BROADWAY BETWEEN HOUSTON STREET AND BLEECKER STREET IN THE NOHO SECTION OF MANHATTAN                                                                                                                                                                                                    4\n",
       "Special Permit pursuant to ZR Section 74-711 to allow the construction of 2 single-story penthouse additions on the roof of an existing building in M1-5B district within the NoHo Historic District                                                                                                                                                                                       1\n",
       "SPEC PERM (ZR74-781) TO USE P/O GROUND FLR FOR A USE NOT*PERMITTED BY ZR42-14D IN AN M1-5B BLDG IN NOHO DIST                                                                                                                                                                                                                                                                               1\n",
       "This is an application by the Landmarks Preservation Commission (LPC) requesting landmark designation for the 830 Broadway Building, located at 830 Broadway (Block 564, p/o Lot 36) in the NoHo neighborhood, Community District 2, Manhattan.                                                                                                                                            1\n",
       "This is an application by the Landmarks Preservation Commission (LPC) requesting landmark designation for the 832-834 Broadway Building, located at 832-834 Broadway (Block 564, p/o Lot 36) in the NoHo neighborhood, Community District 2, Manhattan.                                                                                                                                    1\n",
       "ZONING TEXT AMENDMENT FOR NOHO & WALKER ST CORRIDOR                                                                                                                                                                                                                                                                                                                                        1\n",
       "NOHO & TRIBECA AMENDMENT TO CHANGE FILING DATE FOR*'GRANDFATHERING'OF CERTAIN ILLEGAL LOFT TENANTS                                                                                                                                                                                                                                                                                         1\n",
       "This is an application by the Landmarks Preservation Commission (LPC) requesting landmark designation for the 826 Broadway Building, located at 826 Broadway (Block 564, Lot 34) in the NoHo neighborhood, Community District 2, Manhattan.                                                                                                                                                1\n",
       "SOHO/NOHO ZONING TEXT CHANGE ZR42-14D TO ALLOW*LIBRARIES,MUSEUMS & NON-COMMERCIAL ART GALLERIES                                                                                                                                                                                                                                                                                            1\n",
       "This is an application by the Landmarks Preservation Commission (LPC) requesting landmark designation for the 836 Broadway Building, located at 836 Broadway (Block 564, Lot 39) in the NoHo neighborhood, Community District 2, Manhattan.                                                                                                                                                1\n",
       "This is an application by the Landmarks Preservation Commission (LPC) requesting landmark designation for the 840 Broadway Building, located at 840 Broadway (Block 564, Lot 41) in the NoHo neighborhood, Community District 2, Manhattan.                                                                                                                                                1\n",
       "This is an application by the Landmarks Preservation Commission (LPC) requesting landmark designation for The Roosevelt Building, located at 837 Broadway (Block 565,p/o Lot 15) in the NoHo neighborhood, Community District 2, Manhattan.                                                                                                                                                1\n",
       "SoHo/NoHo Neighborhood Plan seeks to strengthen SoHo and NoHo as mixed-use neighborhoods and promote equity. The proposal will expand housing opportunities for New Yorkers, reduce burdens for residents and businesses, and support continued economic and cultural success in a holistic way. For a list of affected blocks/lots and project area boundary, see Public Documents.       1\n",
       "This is a private application by Real Estate Equities Corporation seeking a special permit to transfer approximately 8,300 sf from a Landmark Site (4 St. Marks Pl) pursuant to ZR 74-79 and to modify the height and setback requirements of ZR 33-432 to facilitate a ten-story commercial building at 3 St. Marks Place in the NoHo neighborhood of Manhattan, Community District 3.    1\n",
       "SPECIAL PERMIT TO MODIFY & CONVERT ALL UNITS ON FLOORS 2-9*TO RESIDENTIAL USE IN THE SOHO/NOHO SPECIAL DISTRICT                                                                                                                                                                                                                                                                            1\n",
       "This is an application by the Landmarks Preservation Commission (LPC) requesting landmark designation for the 817 Broadway Building, located at 817 Broadway (Block 563, Lot 31) in the NoHo neighborhood, Community District 2, Manhattan.                                                                                                                                                1\n",
       "The Applicant, Kalodop II Park Corporation, seeks approval of a zoning text amendment and special permits to facilitate the redevelopment of an eight-story commercial building located at 27 East 4th Street (Block 544, Lot 72), within an M1-5B zoning district, in the NoHo Historic District Extension of Manhattan Community District 2.                                             1\n",
       "This is a private application by Lafayette Development Associates LLC requesting a special permit [ZR Section 74-781] to allow Use Group 6 retail uses in a new office building at 363 Lafayette Street, in NoHo, Community District 2, Manhattan.                                                                                                                                         1\n",
       "Name: project_brief, dtype: int64"
      ]
     },
     "execution_count": 28,
     "metadata": {},
     "output_type": "execute_result"
    }
   ],
   "source": [
    "df[df.project_brief.str.contains(\"Noho\", case=False, na=False)].project_brief.value_counts()"
   ]
  },
  {
   "cell_type": "code",
   "execution_count": 19,
   "id": "violent-paper",
   "metadata": {},
   "outputs": [
    {
     "data": {
      "text/plain": [
       "(28, 34)"
      ]
     },
     "execution_count": 19,
     "metadata": {},
     "output_type": "execute_result"
    }
   ],
   "source": [
    "df[df.project_name.str.contains(\"Soho\", case=False, na=False)].shape"
   ]
  },
  {
   "cell_type": "code",
   "execution_count": 17,
   "id": "twelve-discrimination",
   "metadata": {},
   "outputs": [
    {
     "data": {
      "text/plain": [
       "(255, 34)"
      ]
     },
     "execution_count": 17,
     "metadata": {},
     "output_type": "execute_result"
    }
   ],
   "source": [
    "df[df.project_brief.str.contains(\"rezoning\", case=False, na=False)].shape"
   ]
  },
  {
   "cell_type": "code",
   "execution_count": 44,
   "id": "approximate-chain",
   "metadata": {},
   "outputs": [
    {
     "data": {
      "text/plain": [
       "(1, 34)"
      ]
     },
     "execution_count": 44,
     "metadata": {},
     "output_type": "execute_result"
    }
   ],
   "source": [
    "df[df.project_brief.str.contains(\"upzoning\", case=False, na=False)].shape"
   ]
  },
  {
   "cell_type": "code",
   "execution_count": 39,
   "id": "bibliographic-tourism",
   "metadata": {},
   "outputs": [
    {
     "data": {
      "text/plain": [
       "Q07    16\n",
       "Q01    15\n",
       "Q02    12\n",
       "M04    11\n",
       "K01    10\n",
       "R03    10\n",
       "K18     9\n",
       "X09     9\n",
       "R01     8\n",
       "K06     8\n",
       "X10     6\n",
       "K12     6\n",
       "M07     5\n",
       "X01     5\n",
       "K02     5\n",
       "K08     5\n",
       "Q06     5\n",
       "Q08     4\n",
       "Q05     4\n",
       "R02     4\n",
       "Name: community_district, dtype: int64"
      ]
     },
     "execution_count": 39,
     "metadata": {},
     "output_type": "execute_result"
    }
   ],
   "source": [
    "df[df.project_brief.str.contains(\"rezoning\", case=False, na=False)].community_district.value_counts().head(20)"
   ]
  },
  {
   "cell_type": "markdown",
   "id": "noble-hazard",
   "metadata": {},
   "source": [
    "Can above be used to see what \"big data\" would surface?\n",
    "\n",
    "Would need to make function to tabulate count when concatenated CD?"
   ]
  },
  {
   "cell_type": "code",
   "execution_count": 50,
   "id": "statutory-reward",
   "metadata": {},
   "outputs": [
    {
     "data": {
      "text/plain": [
       "87-311M: AMEND OF SPECIAL LITTLE ITALY DISTRICT (ZON RESO) SO TO ENCOURAGE RESIDENTIAL CONSTRUCTION OF MARKET RATE HOUSING TB521. TL54.                                                                                                                                                                                                                                                                                                                 3\n",
       "This is an application by HPD for a disposition of city-owned property to facilitate a 123-unit affordable senior housing in Preservation Area A of the Special Little Italy District, in Nolita, Community District 2, Manhattan.                                                                                                                                                                                                                      1\n",
       "88-240M: MODIFICATION TO EXISTING PIER TO ACCOMMODATE A FLOATING HOUSING FACILITY                                                                                                                                                                                                                                                                                                                                                                       1\n",
       "An application for a three-year renewal of a CPC authorization (N 170441 ZAM) pursuant to ZR § 11-43 to eliminate required accessory off-street parking in the Manhattan Core is being sought by WVH Housing Development Fund Corporation at 738-742 Greenwich Street (Perry Street Garage, Block 633, Lot 24) in the West Village, Community District 2, Manhattan. Original approval (P2014M0458) granted August 23, 2017 pursuant to ZR § 13-443.    1\n",
       "SPEC PERMIT PURSUANT(ZR74-95) TO CONST 4 STY RESDL/COMM*BLDG(UNDER THE HOUSING QUALITY PROGRAM)                                                                                                                                                                                                                                                                                                                                                         1\n",
       "ACQUIRE 37,400SF OF SPACE TO ESTABLISH THE ONLY EMERGENCY*ASSISTANCE UNIT FOR HOUSING, TRANSPORT & FINANCIAL AID                                                                                                                                                                                                                                                                                                                                        1\n",
       "SoHo/NoHo Neighborhood Plan seeks to strengthen SoHo and NoHo as mixed-use neighborhoods and promote equity. The proposal will expand housing opportunities for New Yorkers, reduce burdens for residents and businesses, and support continued economic and cultural success in a holistic way. For a list of affected blocks/lots and project area boundary, see Public Documents.                                                                    1\n",
       "Name: project_brief, dtype: int64"
      ]
     },
     "execution_count": 50,
     "metadata": {},
     "output_type": "execute_result"
    }
   ],
   "source": [
    "df[(df.project_brief.str.contains(\"housing\", case=False, na=False)) & (df.community_district=='M02')].project_brief.value_counts()"
   ]
  },
  {
   "cell_type": "markdown",
   "id": "indirect-herald",
   "metadata": {},
   "source": [
    "Queens rezoning?\n",
    "\n",
    "Special Flushing Waterfront District (I don't think CB7 is on Block party - that is part of the story?)\n",
    "\n",
    "\n",
    "Proposed rezoning of all or portions of 238 blocks in Astoria, Queens CD 1, to preserve the existing scale and character of the area while allowing for a modest increase in residential and commercial density in limited locations.\n",
    "\n",
    "Lot of push for MIH in CB1, could look at \"Astoria\"\n",
    "\n",
    "\n",
    "Proposed rezoning of all or portions of 130 blocks in Sunnyside and Woodside, Queens CD 2, to protect the lower-density character of these neighborhoods while allowing for a moderate increase in residential and commercial density along main corridors.\n",
    "\n",
    "\n",
    "Hard to identify the big zoning stories from the ZAP portal, so much going on. Unless you know what to search for already..."
   ]
  },
  {
   "cell_type": "code",
   "execution_count": null,
   "id": "appointed-coordinate",
   "metadata": {},
   "outputs": [],
   "source": []
  }
 ],
 "metadata": {
  "kernelspec": {
   "display_name": "Python 3",
   "language": "python",
   "name": "python3"
  },
  "language_info": {
   "codemirror_mode": {
    "name": "ipython",
    "version": 3
   },
   "file_extension": ".py",
   "mimetype": "text/x-python",
   "name": "python",
   "nbconvert_exporter": "python",
   "pygments_lexer": "ipython3",
   "version": "3.8.8"
  }
 },
 "nbformat": 4,
 "nbformat_minor": 5
}
