{
 "cells": [
  {
   "cell_type": "code",
   "execution_count": 1,
   "metadata": {},
   "outputs": [],
   "source": [
    "# blockparty_analysis package\n",
    "import query_db, ops"
   ]
  },
  {
   "cell_type": "code",
   "execution_count": 2,
   "metadata": {},
   "outputs": [],
   "source": [
    "import pandas as pd\n",
    "import importlib\n",
    "import pymongo\n",
    "import yaml\n",
    "import numpy as np"
   ]
  },
  {
   "cell_type": "code",
   "execution_count": 3,
   "metadata": {},
   "outputs": [
    {
     "data": {
      "text/plain": [
       "<module 'query_db' from '/Users/sarah/Documents/repos/block_party/analysis_tools/query_db.py'>"
      ]
     },
     "execution_count": 3,
     "metadata": {},
     "output_type": "execute_result"
    }
   ],
   "source": [
    "# to refresh changes to package\n",
    "importlib.reload(query_db)"
   ]
  },
  {
   "attachments": {},
   "cell_type": "markdown",
   "metadata": {},
   "source": [
    "# Query Database\n",
    "\n",
    "The scope of this notebook demonstrates a workflow that connects to the mongoDB and filters the collection of Block Party transcripts by a specific list of words using regex search.\n",
    "\n",
    "The standard list of columns to export as a dataframe is defined by a YAML file. A API key is required to be able to reproduce the workflow, and should be saved outside of the repository. "
   ]
  },
  {
   "cell_type": "code",
   "execution_count": 27,
   "metadata": {},
   "outputs": [],
   "source": [
    "# Create an instance of the Constants class and pass the path to the YAML file\n",
    "constants = ops.Constants('../analysis_tools/config.yaml')\n",
    "# Access the data in the YAML file\n",
    "columns_to_output = constants.constants['standard_column_list']\n",
    "\n",
    "# define case study terms\n",
    "case_study_terms = constants.constants['zoning_key_terms']\n"
   ]
  },
  {
   "attachments": {},
   "cell_type": "markdown",
   "metadata": {},
   "source": [
    "Filter database for any transcript that contains input word."
   ]
  },
  {
   "cell_type": "code",
   "execution_count": 28,
   "metadata": {},
   "outputs": [],
   "source": [
    "key_file_path = ops.pass_key('/Users/sarah/Documents/keys/mongo_key')"
   ]
  },
  {
   "cell_type": "code",
   "execution_count": 29,
   "metadata": {},
   "outputs": [],
   "source": [
    "# Connect to database\n",
    "client = pymongo.MongoClient(key_file_path)\n",
    "filter = query_db.MongoDBFilter(client, 'community-board', 'transcripts_v4')"
   ]
  },
  {
   "attachments": {},
   "cell_type": "markdown",
   "metadata": {},
   "source": [
    "Structure of each dataframe will be a list of words to filter by, if a transcript contains any of the words it will pass through the filter."
   ]
  },
  {
   "cell_type": "code",
   "execution_count": 30,
   "metadata": {},
   "outputs": [
    {
     "data": {
      "text/plain": [
       "{'Zoning': ['zoning',\n",
       "  'variance',\n",
       "  'mih',\n",
       "  'inclusionary',\n",
       "  'floor area',\n",
       "  'far',\n",
       "  'ami']}"
      ]
     },
     "execution_count": 30,
     "metadata": {},
     "output_type": "execute_result"
    }
   ],
   "source": [
    "# define terms to search by\n",
    "input_dict = {'Zoning': case_study_terms}\n",
    "input_dict"
   ]
  },
  {
   "cell_type": "code",
   "execution_count": 31,
   "metadata": {},
   "outputs": [],
   "source": [
    "# manually add regex patterns to promote wider catch rate\n",
    "zoning_word_list = ['[Zz]oning', '[Vv]ariance', ' MIH ', '[Ii]nclusionary', 'floor area', ' AMI ']"
   ]
  },
  {
   "cell_type": "code",
   "execution_count": 32,
   "metadata": {},
   "outputs": [
    {
     "name": "stdout",
     "output_type": "stream",
     "text": [
      "searching for: [Zz]oning|[Vv]ariance| MIH |[Ii]nclusionary|floor area| AMI \n"
     ]
    }
   ],
   "source": [
    "results = filter.filter_by_regex(\"properties.fullTranscript\", zoning_word_list, projection=columns_to_output)"
   ]
  },
  {
   "attachments": {},
   "cell_type": "markdown",
   "metadata": {},
   "source": [
    "If the response collection is very large the conversion to a dataframe takes a very long time..."
   ]
  },
  {
   "cell_type": "code",
   "execution_count": 33,
   "metadata": {},
   "outputs": [],
   "source": [
    "# TODO: find more efficient method to convert json to dataframe. seems to depend on server memory? This time was much faster!!"
   ]
  },
  {
   "cell_type": "code",
   "execution_count": 34,
   "metadata": {},
   "outputs": [
    {
     "name": "stdout",
     "output_type": "stream",
     "text": [
      "Creating dataframe from database query...\n",
      "Dataframe created...\n",
      "Transformed col videoURL...\n",
      "Transformed col normalizedName...\n",
      "Transformed col publishDate...\n",
      "Transformed col title...\n",
      "value:  meetingType not found\n",
      "Transformed col fullTranscript...\n",
      "Transformed col lengthSeconds...\n",
      "Transformed col wordCountFullTranscript...\n",
      "Transformed col wordCountSummary...\n"
     ]
    }
   ],
   "source": [
    "df_v1 = query_db.flatten_docs_by_columns(results, columns_to_output)"
   ]
  },
  {
   "cell_type": "code",
   "execution_count": 35,
   "metadata": {},
   "outputs": [],
   "source": [
    "client.close()"
   ]
  },
  {
   "attachments": {},
   "cell_type": "markdown",
   "metadata": {},
   "source": [
    "Todo: turn the following into a helper function in addition to creating set from key sentences."
   ]
  },
  {
   "cell_type": "code",
   "execution_count": 39,
   "metadata": {},
   "outputs": [],
   "source": [
    "# 5 older transcripts missing lengthSeconds \n",
    "df_v1['lengthSeconds'].replace('NaN', np.NaN, inplace=True)\n",
    "df_v1['publishDate'] = pd.to_datetime(df_v1['publishDate'], format='%Y-%m-%dT%H:%M:%S')\n",
    "df_v1['videoURL'] = df_v1['videoURL'].apply(lambda x: f\"https://www.youtube.com/watch?v={x}\")"
   ]
  },
  {
   "attachments": {},
   "cell_type": "markdown",
   "metadata": {},
   "source": [
    "Comparison of shape vs. when run analysis a ~month ago, we added almost 400 more transcripts that contain the key terms! Well it also is more likely due to how we added broader terms that might not have to do about the zoning exactly."
   ]
  },
  {
   "cell_type": "code",
   "execution_count": 36,
   "metadata": {},
   "outputs": [
    {
     "data": {
      "text/plain": [
       "(2385, 9)"
      ]
     },
     "execution_count": 36,
     "metadata": {},
     "output_type": "execute_result"
    }
   ],
   "source": [
    "df_v1.shape"
   ]
  },
  {
   "cell_type": "code",
   "execution_count": 40,
   "metadata": {},
   "outputs": [
    {
     "data": {
      "text/plain": [
       "2385"
      ]
     },
     "execution_count": 40,
     "metadata": {},
     "output_type": "execute_result"
    }
   ],
   "source": [
    "# each row is a unique transcript\n",
    "df_v1._id.nunique()"
   ]
  },
  {
   "attachments": {},
   "cell_type": "markdown",
   "metadata": {},
   "source": [
    "Output will be used to filter by location to idenfity relevant sentences."
   ]
  },
  {
   "cell_type": "code",
   "execution_count": 42,
   "metadata": {},
   "outputs": [],
   "source": [
    "df_v1.to_pickle(\"../data/zoning_case_study_10-02-23.pkl\")"
   ]
  },
  {
   "cell_type": "code",
   "execution_count": 28,
   "metadata": {},
   "outputs": [],
   "source": [
    "df.to_pickle(\"../data/zoning_case_study.pkl\")"
   ]
  },
  {
   "attachments": {},
   "cell_type": "markdown",
   "metadata": {},
   "source": [
    "#### quick comparison of the different transcripts now being captured by added words"
   ]
  },
  {
   "cell_type": "code",
   "execution_count": 20,
   "metadata": {},
   "outputs": [],
   "source": [
    "df_zoning_only = pd.read_pickle(\"../data/zoning_case_study.pkl\")"
   ]
  },
  {
   "cell_type": "code",
   "execution_count": 37,
   "metadata": {},
   "outputs": [
    {
     "data": {
      "text/html": [
       "<div>\n",
       "<style scoped>\n",
       "    .dataframe tbody tr th:only-of-type {\n",
       "        vertical-align: middle;\n",
       "    }\n",
       "\n",
       "    .dataframe tbody tr th {\n",
       "        vertical-align: top;\n",
       "    }\n",
       "\n",
       "    .dataframe thead th {\n",
       "        text-align: right;\n",
       "    }\n",
       "</style>\n",
       "<table border=\"1\" class=\"dataframe\">\n",
       "  <thead>\n",
       "    <tr style=\"text-align: right;\">\n",
       "      <th></th>\n",
       "      <th>_id</th>\n",
       "      <th>videoURL</th>\n",
       "      <th>normalizedName</th>\n",
       "      <th>publishDate</th>\n",
       "      <th>title</th>\n",
       "      <th>fullTranscript</th>\n",
       "      <th>lengthSeconds</th>\n",
       "      <th>wordCountFullTranscript</th>\n",
       "      <th>wordCountSummary</th>\n",
       "    </tr>\n",
       "  </thead>\n",
       "  <tbody>\n",
       "    <tr>\n",
       "      <th>4</th>\n",
       "      <td>5fe7e243539a4d487dc18b6c</td>\n",
       "      <td>MBMZUrKLHlg</td>\n",
       "      <td>Manhattan Community Board 3</td>\n",
       "      <td>2020-04-14T00:00:00</td>\n",
       "      <td>Manhattan - Parks, Recreation, Waterfront, &amp; R...</td>\n",
       "      <td>And unmute and star nine to raise your hand so...</td>\n",
       "      <td>1:43:32</td>\n",
       "      <td>{'room': 58, 'space': 54, 'building': 54, 'par...</td>\n",
       "      <td>{'space': 24, 'room': 20, 'building': 14, 'aid...</td>\n",
       "    </tr>\n",
       "    <tr>\n",
       "      <th>31</th>\n",
       "      <td>5fe7e245539a4d487dc18bab</td>\n",
       "      <td>fPMSfCPXU7w</td>\n",
       "      <td>Manhattan Community Board 1</td>\n",
       "      <td>2020-10-14T00:00:00</td>\n",
       "      <td>Youth &amp; Education Committee</td>\n",
       "      <td>As we heard last week, they are, they have rel...</td>\n",
       "      <td>2:18:09</td>\n",
       "      <td>{'school': 122, 'schools': 73, 'teachers': 54,...</td>\n",
       "      <td>{'school': 24, 'schools': 17, 'students': 12, ...</td>\n",
       "    </tr>\n",
       "    <tr>\n",
       "      <th>36</th>\n",
       "      <td>5fe7e245539a4d487dc18bb2</td>\n",
       "      <td>dMB1v7ECxsk</td>\n",
       "      <td>Manhattan Community Board 3</td>\n",
       "      <td>2020-06-17T00:00:00</td>\n",
       "      <td>Manhattan - Land Use, Zoning, Public &amp; Private...</td>\n",
       "      <td>Oh you we're gonna start a meeting good evenin...</td>\n",
       "      <td>1:17:56</td>\n",
       "      <td>{'budget': 50, 'housing': 35, 'need': 31, 'dat...</td>\n",
       "      <td>{'budget': 19, 'housing': 16, 'need': 11, 'pro...</td>\n",
       "    </tr>\n",
       "    <tr>\n",
       "      <th>37</th>\n",
       "      <td>5fe7e245539a4d487dc18bb5</td>\n",
       "      <td>OqlpThvGa7U</td>\n",
       "      <td>Manhattan Community Board 10</td>\n",
       "      <td>2020-09-03T00:00:00</td>\n",
       "      <td>General Board Meeting</td>\n",
       "      <td>Come on hello, okay, hi, Charles, hey everybod...</td>\n",
       "      <td>3:19:49</td>\n",
       "      <td>{'street': 50, 'school': 34, 'summer': 29, 'cr...</td>\n",
       "      <td>{'safety': 11, 'summer': 10, 'street': 10, 'he...</td>\n",
       "    </tr>\n",
       "    <tr>\n",
       "      <th>43</th>\n",
       "      <td>5fe7e246539a4d487dc18bc0</td>\n",
       "      <td>i7Z8ULy26jc</td>\n",
       "      <td>Queens Community Board 4</td>\n",
       "      <td>2020-06-16T00:00:00</td>\n",
       "      <td>QBoard Meeting via Webex</td>\n",
       "      <td>I'm not doing this to it good evening.\\nEveryb...</td>\n",
       "      <td>1:32:10</td>\n",
       "      <td>{'food': 42, 'meals': 14, 'evening': 12, 'mone...</td>\n",
       "      <td>{'food': 13, 'neighbors': 4, 'homes': 3, 'meal...</td>\n",
       "    </tr>\n",
       "  </tbody>\n",
       "</table>\n",
       "</div>"
      ],
      "text/plain": [
       "                         _id     videoURL                normalizedName  \\\n",
       "4   5fe7e243539a4d487dc18b6c  MBMZUrKLHlg   Manhattan Community Board 3   \n",
       "31  5fe7e245539a4d487dc18bab  fPMSfCPXU7w   Manhattan Community Board 1   \n",
       "36  5fe7e245539a4d487dc18bb2  dMB1v7ECxsk   Manhattan Community Board 3   \n",
       "37  5fe7e245539a4d487dc18bb5  OqlpThvGa7U  Manhattan Community Board 10   \n",
       "43  5fe7e246539a4d487dc18bc0  i7Z8ULy26jc      Queens Community Board 4   \n",
       "\n",
       "            publishDate                                              title  \\\n",
       "4   2020-04-14T00:00:00  Manhattan - Parks, Recreation, Waterfront, & R...   \n",
       "31  2020-10-14T00:00:00                        Youth & Education Committee   \n",
       "36  2020-06-17T00:00:00  Manhattan - Land Use, Zoning, Public & Private...   \n",
       "37  2020-09-03T00:00:00                              General Board Meeting   \n",
       "43  2020-06-16T00:00:00                           QBoard Meeting via Webex   \n",
       "\n",
       "                                       fullTranscript lengthSeconds  \\\n",
       "4   And unmute and star nine to raise your hand so...       1:43:32   \n",
       "31  As we heard last week, they are, they have rel...       2:18:09   \n",
       "36  Oh you we're gonna start a meeting good evenin...       1:17:56   \n",
       "37  Come on hello, okay, hi, Charles, hey everybod...       3:19:49   \n",
       "43  I'm not doing this to it good evening.\\nEveryb...       1:32:10   \n",
       "\n",
       "                              wordCountFullTranscript  \\\n",
       "4   {'room': 58, 'space': 54, 'building': 54, 'par...   \n",
       "31  {'school': 122, 'schools': 73, 'teachers': 54,...   \n",
       "36  {'budget': 50, 'housing': 35, 'need': 31, 'dat...   \n",
       "37  {'street': 50, 'school': 34, 'summer': 29, 'cr...   \n",
       "43  {'food': 42, 'meals': 14, 'evening': 12, 'mone...   \n",
       "\n",
       "                                     wordCountSummary  \n",
       "4   {'space': 24, 'room': 20, 'building': 14, 'aid...  \n",
       "31  {'school': 24, 'schools': 17, 'students': 12, ...  \n",
       "36  {'budget': 19, 'housing': 16, 'need': 11, 'pro...  \n",
       "37  {'safety': 11, 'summer': 10, 'street': 10, 'he...  \n",
       "43  {'food': 13, 'neighbors': 4, 'homes': 3, 'meal...  "
      ]
     },
     "execution_count": 37,
     "metadata": {},
     "output_type": "execute_result"
    }
   ],
   "source": [
    "df_v1[~df_v1['_id'].isin(df_zoning_only['_id'])].head()"
   ]
  },
  {
   "cell_type": "code",
   "execution_count": null,
   "metadata": {},
   "outputs": [],
   "source": [
    "# todo: for each fulltranscript start to use text_search.py to unpack"
   ]
  },
  {
   "cell_type": "code",
   "execution_count": 18,
   "metadata": {},
   "outputs": [
    {
     "data": {
      "text/html": [
       "<div>\n",
       "<style scoped>\n",
       "    .dataframe tbody tr th:only-of-type {\n",
       "        vertical-align: middle;\n",
       "    }\n",
       "\n",
       "    .dataframe tbody tr th {\n",
       "        vertical-align: top;\n",
       "    }\n",
       "\n",
       "    .dataframe thead th {\n",
       "        text-align: right;\n",
       "    }\n",
       "</style>\n",
       "<table border=\"1\" class=\"dataframe\">\n",
       "  <thead>\n",
       "    <tr style=\"text-align: right;\">\n",
       "      <th></th>\n",
       "      <th>_id</th>\n",
       "      <th>videoURL</th>\n",
       "      <th>normalizedName</th>\n",
       "      <th>publishDate</th>\n",
       "      <th>title</th>\n",
       "      <th>meetingType</th>\n",
       "      <th>fullTranscript</th>\n",
       "      <th>lengthSeconds</th>\n",
       "      <th>wordCountFullTranscript</th>\n",
       "      <th>wordCountSummary</th>\n",
       "    </tr>\n",
       "  </thead>\n",
       "  <tbody>\n",
       "    <tr>\n",
       "      <th>4</th>\n",
       "      <td>5fe7e243539a4d487dc18b6e</td>\n",
       "      <td>g1gcT-cVsWM</td>\n",
       "      <td>Manhattan Community Board 8</td>\n",
       "      <td>2020-12-10T00:00:00</td>\n",
       "      <td>Land Use Committee Meeting</td>\n",
       "      <td>[[0.541478157043457, Zoning], [0.0916235074400...</td>\n",
       "      <td>Foreign me, okay, will tell me when it's a goo...</td>\n",
       "      <td>3:14:40</td>\n",
       "      <td>{'building': 136, 'buildings': 100, 'flood': 9...</td>\n",
       "      <td>{'building': 47, 'flood': 38, 'buildings': 29,...</td>\n",
       "    </tr>\n",
       "    <tr>\n",
       "      <th>6</th>\n",
       "      <td>5fe7e243539a4d487dc18b75</td>\n",
       "      <td>CL5991ZAYHY</td>\n",
       "      <td>Manhattan Community Board 8</td>\n",
       "      <td>2020-07-14T00:00:00</td>\n",
       "      <td>Landmarks Committee Meeting</td>\n",
       "      <td>[[0.14057375490665436, Infrastructure], [0.099...</td>\n",
       "      <td>Let me know when you're ready for me to take d...</td>\n",
       "      <td>2:48:07</td>\n",
       "      <td>{'building': 125, 'sidewalk': 37, 'feet': 36, ...</td>\n",
       "      <td>{'building': 44, 'equipment': 12, 'windows': 1...</td>\n",
       "    </tr>\n",
       "    <tr>\n",
       "      <th>11</th>\n",
       "      <td>5fe7e244539a4d487dc18b88</td>\n",
       "      <td>iFmGCX6Sf_0</td>\n",
       "      <td>Manhattan Community Board 8</td>\n",
       "      <td>2020-11-20T00:00:00</td>\n",
       "      <td>Environment &amp; Sanitation Meeting</td>\n",
       "      <td>[[0.1319103091955185, Quality of Life], [0.123...</td>\n",
       "      <td>All right, let's just give it another minute h...</td>\n",
       "      <td>2:07:30</td>\n",
       "      <td>{'rats': 50, 'monitoring': 36, 'rat': 34, 'pro...</td>\n",
       "      <td>{'rats': 13, 'monitoring': 9, 'sanitation': 7,...</td>\n",
       "    </tr>\n",
       "    <tr>\n",
       "      <th>21</th>\n",
       "      <td>5fe7e244539a4d487dc18b98</td>\n",
       "      <td>Fl7m8RlNeg4</td>\n",
       "      <td>Manhattan Community Board 8</td>\n",
       "      <td>2020-11-25T00:00:00</td>\n",
       "      <td>Housing Committee Meeting</td>\n",
       "      <td>[[0.7631369233131409, Housing], [0.10599086433...</td>\n",
       "      <td>And see me by the way will when we do, the min...</td>\n",
       "      <td>1:24:45</td>\n",
       "      <td>{'housing': 128, 'rent': 38, 'state': 30, 'lan...</td>\n",
       "      <td>{'housing': 49, 'state': 8, 'land': 8, 'income...</td>\n",
       "    </tr>\n",
       "    <tr>\n",
       "      <th>34</th>\n",
       "      <td>5fe7e245539a4d487dc18bb7</td>\n",
       "      <td>BcjOwgr4WEI</td>\n",
       "      <td>Manhattan Community Board 8</td>\n",
       "      <td>2020-12-01T00:00:00</td>\n",
       "      <td>Resource Sharing Session with MAS' Livable Nei...</td>\n",
       "      <td>[[0.7714632153511047, Zoning], [0.137315973639...</td>\n",
       "      <td>Good, okay, so good evening, everyone and welc...</td>\n",
       "      <td>1:45:38</td>\n",
       "      <td>{'zoning': 64, 'project': 64, 'building': 41, ...</td>\n",
       "      <td>{'project': 18, 'land': 15, 'zoning': 15, 'rev...</td>\n",
       "    </tr>\n",
       "  </tbody>\n",
       "</table>\n",
       "</div>"
      ],
      "text/plain": [
       "                         _id     videoURL               normalizedName  \\\n",
       "4   5fe7e243539a4d487dc18b6e  g1gcT-cVsWM  Manhattan Community Board 8   \n",
       "6   5fe7e243539a4d487dc18b75  CL5991ZAYHY  Manhattan Community Board 8   \n",
       "11  5fe7e244539a4d487dc18b88  iFmGCX6Sf_0  Manhattan Community Board 8   \n",
       "21  5fe7e244539a4d487dc18b98  Fl7m8RlNeg4  Manhattan Community Board 8   \n",
       "34  5fe7e245539a4d487dc18bb7  BcjOwgr4WEI  Manhattan Community Board 8   \n",
       "\n",
       "            publishDate                                              title  \\\n",
       "4   2020-12-10T00:00:00                         Land Use Committee Meeting   \n",
       "6   2020-07-14T00:00:00                        Landmarks Committee Meeting   \n",
       "11  2020-11-20T00:00:00                   Environment & Sanitation Meeting   \n",
       "21  2020-11-25T00:00:00                          Housing Committee Meeting   \n",
       "34  2020-12-01T00:00:00  Resource Sharing Session with MAS' Livable Nei...   \n",
       "\n",
       "                                          meetingType  \\\n",
       "4   [[0.541478157043457, Zoning], [0.0916235074400...   \n",
       "6   [[0.14057375490665436, Infrastructure], [0.099...   \n",
       "11  [[0.1319103091955185, Quality of Life], [0.123...   \n",
       "21  [[0.7631369233131409, Housing], [0.10599086433...   \n",
       "34  [[0.7714632153511047, Zoning], [0.137315973639...   \n",
       "\n",
       "                                       fullTranscript lengthSeconds  \\\n",
       "4   Foreign me, okay, will tell me when it's a goo...       3:14:40   \n",
       "6   Let me know when you're ready for me to take d...       2:48:07   \n",
       "11  All right, let's just give it another minute h...       2:07:30   \n",
       "21  And see me by the way will when we do, the min...       1:24:45   \n",
       "34  Good, okay, so good evening, everyone and welc...       1:45:38   \n",
       "\n",
       "                              wordCountFullTranscript  \\\n",
       "4   {'building': 136, 'buildings': 100, 'flood': 9...   \n",
       "6   {'building': 125, 'sidewalk': 37, 'feet': 36, ...   \n",
       "11  {'rats': 50, 'monitoring': 36, 'rat': 34, 'pro...   \n",
       "21  {'housing': 128, 'rent': 38, 'state': 30, 'lan...   \n",
       "34  {'zoning': 64, 'project': 64, 'building': 41, ...   \n",
       "\n",
       "                                     wordCountSummary  \n",
       "4   {'building': 47, 'flood': 38, 'buildings': 29,...  \n",
       "6   {'building': 44, 'equipment': 12, 'windows': 1...  \n",
       "11  {'rats': 13, 'monitoring': 9, 'sanitation': 7,...  \n",
       "21  {'housing': 49, 'state': 8, 'land': 8, 'income...  \n",
       "34  {'project': 18, 'land': 15, 'zoning': 15, 'rev...  "
      ]
     },
     "execution_count": 18,
     "metadata": {},
     "output_type": "execute_result"
    }
   ],
   "source": [
    "df[df['normalizedName'] == 'Manhattan Community Board 8'].head()"
   ]
  },
  {
   "cell_type": "code",
   "execution_count": 2,
   "metadata": {},
   "outputs": [],
   "source": [
    "df = pd.read_pickle(\"../data/zoning_case_study.pkl\")"
   ]
  },
  {
   "cell_type": "code",
   "execution_count": 3,
   "metadata": {},
   "outputs": [
    {
     "data": {
      "text/plain": [
       "(2052, 10)"
      ]
     },
     "execution_count": 3,
     "metadata": {},
     "output_type": "execute_result"
    }
   ],
   "source": [
    "df.shape"
   ]
  },
  {
   "cell_type": "code",
   "execution_count": 20,
   "metadata": {},
   "outputs": [],
   "source": [
    "df.drop(columns=[\"fullTranscript\"]).to_csv(\"../data/zoning_case_study_metadata.csv\", index=False)"
   ]
  }
 ],
 "metadata": {
  "kernelspec": {
   "display_name": "bp_analysis",
   "language": "python",
   "name": "python3"
  },
  "language_info": {
   "codemirror_mode": {
    "name": "ipython",
    "version": 3
   },
   "file_extension": ".py",
   "mimetype": "text/x-python",
   "name": "python",
   "nbconvert_exporter": "python",
   "pygments_lexer": "ipython3",
   "version": "3.8.15"
  },
  "orig_nbformat": 4,
  "vscode": {
   "interpreter": {
    "hash": "049acf96e58ef2d19e530dc84ac35dc34ddb78048b8d5549b7aabf27efd4ef0a"
   }
  }
 },
 "nbformat": 4,
 "nbformat_minor": 2
}
