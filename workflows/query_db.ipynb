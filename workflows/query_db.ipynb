{
 "cells": [
  {
   "cell_type": "code",
   "execution_count": 1,
   "metadata": {},
   "outputs": [
    {
     "ename": "ImportError",
     "evalue": "cannot import name 'query_db' from 'analysis_tools' (/Users/sarah/opt/anaconda3/envs/bp_analysis/lib/python3.8/site-packages/analysis_tools/__init__.py)",
     "output_type": "error",
     "traceback": [
      "\u001b[0;31m---------------------------------------------------------------------------\u001b[0m",
      "\u001b[0;31mImportError\u001b[0m                               Traceback (most recent call last)",
      "\u001b[0;32m/var/folders/gr/cgd2rmy95vz8fz9vb7t_3ln80000gn/T/ipykernel_40636/593178637.py\u001b[0m in \u001b[0;36m<module>\u001b[0;34m\u001b[0m\n\u001b[0;32m----> 1\u001b[0;31m \u001b[0;32mfrom\u001b[0m \u001b[0manalysis_tools\u001b[0m \u001b[0;32mimport\u001b[0m \u001b[0mquery_db\u001b[0m\u001b[0;34m\u001b[0m\u001b[0;34m\u001b[0m\u001b[0m\n\u001b[0m",
      "\u001b[0;31mImportError\u001b[0m: cannot import name 'query_db' from 'analysis_tools' (/Users/sarah/opt/anaconda3/envs/bp_analysis/lib/python3.8/site-packages/analysis_tools/__init__.py)"
     ]
    }
   ],
   "source": [
    "from analysis_tools import query_db"
   ]
  },
  {
   "cell_type": "code",
   "execution_count": 7,
   "metadata": {},
   "outputs": [
    {
     "ename": "NameError",
     "evalue": "name 'query_db' is not defined",
     "output_type": "error",
     "traceback": [
      "\u001b[0;31m---------------------------------------------------------------------------\u001b[0m",
      "\u001b[0;31mNameError\u001b[0m                                 Traceback (most recent call last)",
      "\u001b[0;32m/var/folders/gr/cgd2rmy95vz8fz9vb7t_3ln80000gn/T/ipykernel_38229/1219598883.py\u001b[0m in \u001b[0;36m<module>\u001b[0;34m\u001b[0m\n\u001b[0;32m----> 1\u001b[0;31m \u001b[0mquery_db\u001b[0m\u001b[0;34m.\u001b[0m\u001b[0mMongoDBFilter\u001b[0m\u001b[0;34m\u001b[0m\u001b[0;34m\u001b[0m\u001b[0m\n\u001b[0m",
      "\u001b[0;31mNameError\u001b[0m: name 'query_db' is not defined"
     ]
    }
   ],
   "source": [
    "query_db.MongoDBFilter"
   ]
  },
  {
   "cell_type": "code",
   "execution_count": 4,
   "metadata": {},
   "outputs": [],
   "source": [
    "import pandas as pd\n",
    "import importlib\n",
    "import pymongo\n",
    "import yaml\n",
    "import numpy as np"
   ]
  },
  {
   "cell_type": "code",
   "execution_count": null,
   "metadata": {},
   "outputs": [],
   "source": [
    "importlib.reload(query_db)"
   ]
  },
  {
   "cell_type": "code",
   "execution_count": null,
   "metadata": {},
   "outputs": [],
   "source": [
    "# Create an instance of the Constants class and pass the path to the YAML file\n",
    "constants = ops.Constants('/Users/sarah/Documents/repos/block_party/analysis_tools/config.yaml')\n",
    "# Access the data in the YAML file\n",
    "columns_to_output = constants.constants['standard_column_list']\n"
   ]
  },
  {
   "attachments": {},
   "cell_type": "markdown",
   "metadata": {},
   "source": [
    "Filter database for any transcript that contains input word."
   ]
  },
  {
   "cell_type": "code",
   "execution_count": null,
   "metadata": {},
   "outputs": [],
   "source": [
    "# path to API key as text file\n",
    "key_file_path = query_db.pass_key('/Users/sarah/Documents/keys/mongo_key')"
   ]
  },
  {
   "cell_type": "code",
   "execution_count": null,
   "metadata": {},
   "outputs": [],
   "source": [
    "# Connect to database\n",
    "client = pymongo.MongoClient(key_file_path)\n",
    "filter = query_db.MongoDBFilter(client, 'community-board', 'transcripts_v4')"
   ]
  },
  {
   "attachments": {},
   "cell_type": "markdown",
   "metadata": {},
   "source": [
    "Structure of each dataframe will be a list of words to filter by, if a transcript contains any of the words it will pass through the filter."
   ]
  },
  {
   "cell_type": "code",
   "execution_count": null,
   "metadata": {},
   "outputs": [],
   "source": [
    "zoning_word_list = ['[Zz]oning']"
   ]
  },
  {
   "cell_type": "code",
   "execution_count": null,
   "metadata": {},
   "outputs": [],
   "source": [
    "results = filter.filter_by_regex(\"properties.fullTranscript\", zoning_word_list, projection=columns_to_output)"
   ]
  },
  {
   "cell_type": "code",
   "execution_count": null,
   "metadata": {},
   "outputs": [],
   "source": [
    "df = query_db.flatten_docs_by_columns(results, columns_to_output)"
   ]
  },
  {
   "cell_type": "code",
   "execution_count": null,
   "metadata": {},
   "outputs": [],
   "source": [
    "# 5 older transcripts missing lengthSeconds \n",
    "df['lengthSeconds'].replace('NaN', np.NaN, inplace=True)\n",
    "df['publish_date'] = pd.to_datetime(df['publish_date'], format='%Y-%m-%dT%H:%M:%S')\n",
    "df['video_url'] = df['video_url'].apply(lambda x: f\"https://www.youtube.com/watch?v={x}\")"
   ]
  },
  {
   "cell_type": "code",
   "execution_count": null,
   "metadata": {},
   "outputs": [],
   "source": [
    "df.shape"
   ]
  }
 ],
 "metadata": {
  "kernelspec": {
   "display_name": "bp_analysis",
   "language": "python",
   "name": "python3"
  },
  "language_info": {
   "codemirror_mode": {
    "name": "ipython",
    "version": 3
   },
   "file_extension": ".py",
   "mimetype": "text/x-python",
   "name": "python",
   "nbconvert_exporter": "python",
   "pygments_lexer": "ipython3",
   "version": "3.8.15"
  },
  "orig_nbformat": 4,
  "vscode": {
   "interpreter": {
    "hash": "049acf96e58ef2d19e530dc84ac35dc34ddb78048b8d5549b7aabf27efd4ef0a"
   }
  }
 },
 "nbformat": 4,
 "nbformat_minor": 2
}
